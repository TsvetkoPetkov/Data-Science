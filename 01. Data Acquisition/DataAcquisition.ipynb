{
 "cells": [
  {
   "cell_type": "code",
   "execution_count": 1,
   "id": "d3f0988f-593e-42bc-9bd4-f7eb1e51fcc5",
   "metadata": {},
   "outputs": [],
   "source": [
    "import pandas as pd\n",
    "import numpy as np"
   ]
  },
  {
   "cell_type": "code",
   "execution_count": 8,
   "id": "b4c4781b-a918-48db-8b28-3e52b9376699",
   "metadata": {},
   "outputs": [],
   "source": [
    "cats_and_dogs = pd.DataFrame({\"cats\": [1, 2, 3], \"dogs\": [4, 5, 6]})"
   ]
  },
  {
   "cell_type": "code",
   "execution_count": 9,
   "id": "a7e38d29-30c7-4feb-9387-4f2aadf2295a",
   "metadata": {},
   "outputs": [
    {
     "data": {
      "text/html": [
       "<div>\n",
       "<style scoped>\n",
       "    .dataframe tbody tr th:only-of-type {\n",
       "        vertical-align: middle;\n",
       "    }\n",
       "\n",
       "    .dataframe tbody tr th {\n",
       "        vertical-align: top;\n",
       "    }\n",
       "\n",
       "    .dataframe thead th {\n",
       "        text-align: right;\n",
       "    }\n",
       "</style>\n",
       "<table border=\"1\" class=\"dataframe\">\n",
       "  <thead>\n",
       "    <tr style=\"text-align: right;\">\n",
       "      <th></th>\n",
       "      <th>cats</th>\n",
       "      <th>dogs</th>\n",
       "    </tr>\n",
       "  </thead>\n",
       "  <tbody>\n",
       "    <tr>\n",
       "      <th>0</th>\n",
       "      <td>1</td>\n",
       "      <td>4</td>\n",
       "    </tr>\n",
       "    <tr>\n",
       "      <th>1</th>\n",
       "      <td>2</td>\n",
       "      <td>5</td>\n",
       "    </tr>\n",
       "    <tr>\n",
       "      <th>2</th>\n",
       "      <td>3</td>\n",
       "      <td>6</td>\n",
       "    </tr>\n",
       "  </tbody>\n",
       "</table>\n",
       "</div>"
      ],
      "text/plain": [
       "   cats  dogs\n",
       "0     1     4\n",
       "1     2     5\n",
       "2     3     6"
      ]
     },
     "execution_count": 9,
     "metadata": {},
     "output_type": "execute_result"
    }
   ],
   "source": [
    "cats_and_dogs"
   ]
  },
  {
   "cell_type": "code",
   "execution_count": 10,
   "id": "25c0e4da-18f5-430a-bd91-c61cabde45f9",
   "metadata": {},
   "outputs": [
    {
     "data": {
      "text/plain": [
       "pandas.core.frame.DataFrame"
      ]
     },
     "execution_count": 10,
     "metadata": {},
     "output_type": "execute_result"
    }
   ],
   "source": [
    "type(cats_and_dogs)"
   ]
  },
  {
   "cell_type": "code",
   "execution_count": 12,
   "id": "4a4b32fe-3e35-4e63-b400-10618d22074d",
   "metadata": {},
   "outputs": [
    {
     "data": {
      "text/plain": [
       "(3, 2)"
      ]
     },
     "execution_count": 12,
     "metadata": {},
     "output_type": "execute_result"
    }
   ],
   "source": [
    "cats_and_dogs.shape"
   ]
  },
  {
   "cell_type": "code",
   "execution_count": 13,
   "id": "def8eb4e-fd5b-43c6-a4b2-bf0ab71a57f6",
   "metadata": {},
   "outputs": [],
   "source": [
    "numbers = pd.Series([1, 2, 3])"
   ]
  },
  {
   "cell_type": "code",
   "execution_count": 14,
   "id": "0b8c3d4d-cb55-4a97-8033-b84dd57d02a3",
   "metadata": {},
   "outputs": [
    {
     "data": {
      "text/plain": [
       "0    1\n",
       "1    2\n",
       "2    3\n",
       "dtype: int64"
      ]
     },
     "execution_count": 14,
     "metadata": {},
     "output_type": "execute_result"
    }
   ],
   "source": [
    "numbers"
   ]
  },
  {
   "cell_type": "code",
   "execution_count": 15,
   "id": "c674748e-9c5b-41fd-9c53-c1c6a403c076",
   "metadata": {},
   "outputs": [
    {
     "data": {
      "text/plain": [
       "pandas.core.series.Series"
      ]
     },
     "execution_count": 15,
     "metadata": {},
     "output_type": "execute_result"
    }
   ],
   "source": [
    "type(numbers)"
   ]
  },
  {
   "cell_type": "code",
   "execution_count": 16,
   "id": "fac7e768-379e-4b76-b21f-c6601fe34d5f",
   "metadata": {},
   "outputs": [
    {
     "data": {
      "text/plain": [
       "pandas.core.series.Series"
      ]
     },
     "execution_count": 16,
     "metadata": {},
     "output_type": "execute_result"
    }
   ],
   "source": [
    "type(cats_and_dogs[\"cats\"])"
   ]
  },
  {
   "cell_type": "code",
   "execution_count": 17,
   "id": "d4495673-3137-422d-b645-dd36adad3bb9",
   "metadata": {},
   "outputs": [],
   "source": [
    "accidents_data = pd.read_csv(\"accidents.csv\")"
   ]
  },
  {
   "cell_type": "code",
   "execution_count": 18,
   "id": "884ce992-8493-4d86-86db-8f0772b64799",
   "metadata": {},
   "outputs": [
    {
     "data": {
      "text/html": [
       "<div>\n",
       "<style scoped>\n",
       "    .dataframe tbody tr th:only-of-type {\n",
       "        vertical-align: middle;\n",
       "    }\n",
       "\n",
       "    .dataframe tbody tr th {\n",
       "        vertical-align: top;\n",
       "    }\n",
       "\n",
       "    .dataframe thead th {\n",
       "        text-align: right;\n",
       "    }\n",
       "</style>\n",
       "<table border=\"1\" class=\"dataframe\">\n",
       "  <thead>\n",
       "    <tr style=\"text-align: right;\">\n",
       "      <th></th>\n",
       "      <th>Miles from Home</th>\n",
       "      <th>% of Accidents</th>\n",
       "    </tr>\n",
       "  </thead>\n",
       "  <tbody>\n",
       "    <tr>\n",
       "      <th>0</th>\n",
       "      <td>less than 1</td>\n",
       "      <td>23</td>\n",
       "    </tr>\n",
       "    <tr>\n",
       "      <th>1</th>\n",
       "      <td>1 to 5</td>\n",
       "      <td>29</td>\n",
       "    </tr>\n",
       "    <tr>\n",
       "      <th>2</th>\n",
       "      <td>6 to 10</td>\n",
       "      <td>17</td>\n",
       "    </tr>\n",
       "    <tr>\n",
       "      <th>3</th>\n",
       "      <td>11 to 15</td>\n",
       "      <td>8</td>\n",
       "    </tr>\n",
       "    <tr>\n",
       "      <th>4</th>\n",
       "      <td>16 to 20</td>\n",
       "      <td>6</td>\n",
       "    </tr>\n",
       "    <tr>\n",
       "      <th>5</th>\n",
       "      <td>over 20</td>\n",
       "      <td>17</td>\n",
       "    </tr>\n",
       "  </tbody>\n",
       "</table>\n",
       "</div>"
      ],
      "text/plain": [
       "  Miles from Home  % of Accidents\n",
       "0     less than 1              23\n",
       "1          1 to 5              29\n",
       "2         6 to 10              17\n",
       "3        11 to 15               8\n",
       "4        16 to 20               6\n",
       "5         over 20              17"
      ]
     },
     "execution_count": 18,
     "metadata": {},
     "output_type": "execute_result"
    }
   ],
   "source": [
    "accidents_data"
   ]
  },
  {
   "cell_type": "code",
   "execution_count": 19,
   "id": "86b13282-2717-40b9-b5a4-f00124848f07",
   "metadata": {},
   "outputs": [],
   "source": [
    "column = accidents_data[\"Miles from Home\"]"
   ]
  },
  {
   "cell_type": "code",
   "execution_count": 20,
   "id": "b23e36cb-b355-4031-9147-d5717030d09f",
   "metadata": {},
   "outputs": [
    {
     "data": {
      "text/plain": [
       "0    less than 1\n",
       "1         1 to 5\n",
       "2        6 to 10\n",
       "3       11 to 15\n",
       "4       16 to 20\n",
       "5        over 20\n",
       "Name: Miles from Home, dtype: object"
      ]
     },
     "execution_count": 20,
     "metadata": {},
     "output_type": "execute_result"
    }
   ],
   "source": [
    "column"
   ]
  },
  {
   "cell_type": "code",
   "execution_count": 21,
   "id": "ec50ae29-54c5-418a-9ad1-fae553053033",
   "metadata": {},
   "outputs": [],
   "source": [
    "row = accidents_data.loc[0]"
   ]
  },
  {
   "cell_type": "code",
   "execution_count": 22,
   "id": "1529899d-2d09-4ba6-af47-aca4e53f19e7",
   "metadata": {},
   "outputs": [
    {
     "data": {
      "text/plain": [
       "Miles from Home    less than 1\n",
       "% of Accidents              23\n",
       "Name: 0, dtype: object"
      ]
     },
     "execution_count": 22,
     "metadata": {},
     "output_type": "execute_result"
    }
   ],
   "source": [
    "row"
   ]
  },
  {
   "cell_type": "code",
   "execution_count": 24,
   "id": "bbd38473-c217-4cc5-b58e-2d8032ff034b",
   "metadata": {},
   "outputs": [
    {
     "data": {
      "text/plain": [
       "17"
      ]
     },
     "execution_count": 24,
     "metadata": {},
     "output_type": "execute_result"
    }
   ],
   "source": [
    "accidents_data.loc[2, \"% of Accidents\"]"
   ]
  },
  {
   "cell_type": "code",
   "execution_count": 25,
   "id": "fecfd9b7-40f0-4ff7-9d25-2b5e18e4cd3d",
   "metadata": {},
   "outputs": [
    {
     "data": {
      "text/plain": [
       "(6, 2)"
      ]
     },
     "execution_count": 25,
     "metadata": {},
     "output_type": "execute_result"
    }
   ],
   "source": [
    "accidents_data.shape"
   ]
  },
  {
   "cell_type": "code",
   "execution_count": 26,
   "id": "3d07c4c4-e112-4844-b110-76902216ebf5",
   "metadata": {},
   "outputs": [
    {
     "data": {
      "text/plain": [
       "Miles from Home    object\n",
       "% of Accidents      int64\n",
       "dtype: object"
      ]
     },
     "execution_count": 26,
     "metadata": {},
     "output_type": "execute_result"
    }
   ],
   "source": [
    "accidents_data.dtypes"
   ]
  },
  {
   "cell_type": "code",
   "execution_count": 27,
   "id": "d96c8fa5-c742-4b84-b7f5-50d41661ae7b",
   "metadata": {},
   "outputs": [
    {
     "data": {
      "text/plain": [
       "RangeIndex(start=0, stop=6, step=1)"
      ]
     },
     "execution_count": 27,
     "metadata": {},
     "output_type": "execute_result"
    }
   ],
   "source": [
    "accidents_data.index"
   ]
  },
  {
   "cell_type": "code",
   "execution_count": 30,
   "id": "19542497-086a-491a-bde7-b30317bf89a6",
   "metadata": {},
   "outputs": [
    {
     "data": {
      "text/plain": [
       "Index(['Miles from Home', '% of Accidents'], dtype='object')"
      ]
     },
     "execution_count": 30,
     "metadata": {},
     "output_type": "execute_result"
    }
   ],
   "source": [
    "accidents_data.columns"
   ]
  },
  {
   "cell_type": "code",
   "execution_count": null,
   "id": "a98f7bf0-21db-427d-81d2-2bf56f83fe01",
   "metadata": {},
   "outputs": [],
   "source": []
  }
 ],
 "metadata": {
  "kernelspec": {
   "display_name": "Python 3 (ipykernel)",
   "language": "python",
   "name": "python3"
  },
  "language_info": {
   "codemirror_mode": {
    "name": "ipython",
    "version": 3
   },
   "file_extension": ".py",
   "mimetype": "text/x-python",
   "name": "python",
   "nbconvert_exporter": "python",
   "pygments_lexer": "ipython3",
   "version": "3.10.8"
  }
 },
 "nbformat": 4,
 "nbformat_minor": 5
}
