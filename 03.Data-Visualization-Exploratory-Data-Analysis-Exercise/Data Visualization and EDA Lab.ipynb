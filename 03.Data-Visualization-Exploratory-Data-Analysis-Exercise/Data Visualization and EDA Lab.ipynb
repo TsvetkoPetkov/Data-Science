{
 "cells": [
  {
   "cell_type": "code",
   "execution_count": 1,
   "id": "1b1927be-b3ca-4858-93e1-83348b9b931e",
   "metadata": {},
   "outputs": [],
   "source": [
    "import pandas as pd\n",
    "import matplotlib.pyplot as plt\n",
    "import numpy as np\n",
    "import re\n",
    "import seaborn as sns"
   ]
  },
  {
   "cell_type": "markdown",
   "id": "0a1bacf2-619d-4a97-bf91-e791cee8ce99",
   "metadata": {},
   "source": [
    "# Data Visualization and Exploratory Data Analysis Lab\n",
    "## Visualizing and exploring data. The data mining process"
   ]
  },
  {
   "cell_type": "markdown",
   "id": "7dd6a75a-59db-4b6f-b51c-79cfbffcef45",
   "metadata": {},
   "source": [
    "In this lab, you'll get acquainted with the most streamed songs on Spotify in 2024. The dataset and its associated metadata can be found [here](https://www.kaggle.com/datasets/nelgiriyewithana/most-streamed-spotify-songs-2024). The version you'll need is provided in the `data/` folder.\n",
    "\n",
    "You know the drill. Do what you can / want / need to answer the questions to the best of your ability. Answers do not need to be trivial, or even the same among different people."
   ]
  },
  {
   "cell_type": "markdown",
   "id": "b8cfbf65-857c-464e-98df-b6425b0b571d",
   "metadata": {},
   "source": [
    "### Problem 1. Read the dataset (1 point)\n",
    "Read the file without unzipping it first. You can try a different character encoding, like `unicode_escape`. Don't worry too much about weird characters."
   ]
  },
  {
   "cell_type": "code",
   "execution_count": 2,
   "id": "00d7946c-3f48-476e-8213-42d816ec1db2",
   "metadata": {},
   "outputs": [],
   "source": [
    "path = 'data/spotify_most_streamed_2024.zip'\n",
    "songs_unzipped = pd.read_csv(path, encoding='unicode_escape')"
   ]
  },
  {
   "cell_type": "code",
   "execution_count": 3,
   "id": "f6f835ec-83d1-4569-b6da-f7c549f4a543",
   "metadata": {},
   "outputs": [
    {
     "data": {
      "text/html": [
       "<div>\n",
       "<style scoped>\n",
       "    .dataframe tbody tr th:only-of-type {\n",
       "        vertical-align: middle;\n",
       "    }\n",
       "\n",
       "    .dataframe tbody tr th {\n",
       "        vertical-align: top;\n",
       "    }\n",
       "\n",
       "    .dataframe thead th {\n",
       "        text-align: right;\n",
       "    }\n",
       "</style>\n",
       "<table border=\"1\" class=\"dataframe\">\n",
       "  <thead>\n",
       "    <tr style=\"text-align: right;\">\n",
       "      <th></th>\n",
       "      <th>Track</th>\n",
       "      <th>Album Name</th>\n",
       "      <th>Artist</th>\n",
       "      <th>Release Date</th>\n",
       "      <th>ISRC</th>\n",
       "      <th>All Time Rank</th>\n",
       "      <th>Track Score</th>\n",
       "      <th>Spotify Streams</th>\n",
       "      <th>Spotify Playlist Count</th>\n",
       "      <th>Spotify Playlist Reach</th>\n",
       "      <th>...</th>\n",
       "      <th>SiriusXM Spins</th>\n",
       "      <th>Deezer Playlist Count</th>\n",
       "      <th>Deezer Playlist Reach</th>\n",
       "      <th>Amazon Playlist Count</th>\n",
       "      <th>Pandora Streams</th>\n",
       "      <th>Pandora Track Stations</th>\n",
       "      <th>Soundcloud Streams</th>\n",
       "      <th>Shazam Counts</th>\n",
       "      <th>TIDAL Popularity</th>\n",
       "      <th>Explicit Track</th>\n",
       "    </tr>\n",
       "  </thead>\n",
       "  <tbody>\n",
       "    <tr>\n",
       "      <th>0</th>\n",
       "      <td>MILLION DOLLAR BABY</td>\n",
       "      <td>Million Dollar Baby - Single</td>\n",
       "      <td>Tommy Richman</td>\n",
       "      <td>4/26/2024</td>\n",
       "      <td>QM24S2402528</td>\n",
       "      <td>1</td>\n",
       "      <td>725.4</td>\n",
       "      <td>390,470,936</td>\n",
       "      <td>30,716</td>\n",
       "      <td>196,631,588</td>\n",
       "      <td>...</td>\n",
       "      <td>684</td>\n",
       "      <td>62.0</td>\n",
       "      <td>17,598,718</td>\n",
       "      <td>114.0</td>\n",
       "      <td>18,004,655</td>\n",
       "      <td>22,931</td>\n",
       "      <td>4,818,457</td>\n",
       "      <td>2,669,262</td>\n",
       "      <td>NaN</td>\n",
       "      <td>0</td>\n",
       "    </tr>\n",
       "    <tr>\n",
       "      <th>1</th>\n",
       "      <td>Not Like Us</td>\n",
       "      <td>Not Like Us</td>\n",
       "      <td>Kendrick Lamar</td>\n",
       "      <td>5/4/2024</td>\n",
       "      <td>USUG12400910</td>\n",
       "      <td>2</td>\n",
       "      <td>545.9</td>\n",
       "      <td>323,703,884</td>\n",
       "      <td>28,113</td>\n",
       "      <td>174,597,137</td>\n",
       "      <td>...</td>\n",
       "      <td>3</td>\n",
       "      <td>67.0</td>\n",
       "      <td>10,422,430</td>\n",
       "      <td>111.0</td>\n",
       "      <td>7,780,028</td>\n",
       "      <td>28,444</td>\n",
       "      <td>6,623,075</td>\n",
       "      <td>1,118,279</td>\n",
       "      <td>NaN</td>\n",
       "      <td>1</td>\n",
       "    </tr>\n",
       "    <tr>\n",
       "      <th>2</th>\n",
       "      <td>i like the way you kiss me</td>\n",
       "      <td>I like the way you kiss me</td>\n",
       "      <td>Artemas</td>\n",
       "      <td>3/19/2024</td>\n",
       "      <td>QZJ842400387</td>\n",
       "      <td>3</td>\n",
       "      <td>538.4</td>\n",
       "      <td>601,309,283</td>\n",
       "      <td>54,331</td>\n",
       "      <td>211,607,669</td>\n",
       "      <td>...</td>\n",
       "      <td>536</td>\n",
       "      <td>136.0</td>\n",
       "      <td>36,321,847</td>\n",
       "      <td>172.0</td>\n",
       "      <td>5,022,621</td>\n",
       "      <td>5,639</td>\n",
       "      <td>7,208,651</td>\n",
       "      <td>5,285,340</td>\n",
       "      <td>NaN</td>\n",
       "      <td>0</td>\n",
       "    </tr>\n",
       "    <tr>\n",
       "      <th>3</th>\n",
       "      <td>Flowers</td>\n",
       "      <td>Flowers - Single</td>\n",
       "      <td>Miley Cyrus</td>\n",
       "      <td>1/12/2023</td>\n",
       "      <td>USSM12209777</td>\n",
       "      <td>4</td>\n",
       "      <td>444.9</td>\n",
       "      <td>2,031,280,633</td>\n",
       "      <td>269,802</td>\n",
       "      <td>136,569,078</td>\n",
       "      <td>...</td>\n",
       "      <td>2,182</td>\n",
       "      <td>264.0</td>\n",
       "      <td>24,684,248</td>\n",
       "      <td>210.0</td>\n",
       "      <td>190,260,277</td>\n",
       "      <td>203,384</td>\n",
       "      <td>NaN</td>\n",
       "      <td>11,822,942</td>\n",
       "      <td>NaN</td>\n",
       "      <td>0</td>\n",
       "    </tr>\n",
       "    <tr>\n",
       "      <th>4</th>\n",
       "      <td>Houdini</td>\n",
       "      <td>Houdini</td>\n",
       "      <td>Eminem</td>\n",
       "      <td>5/31/2024</td>\n",
       "      <td>USUG12403398</td>\n",
       "      <td>5</td>\n",
       "      <td>423.3</td>\n",
       "      <td>107,034,922</td>\n",
       "      <td>7,223</td>\n",
       "      <td>151,469,874</td>\n",
       "      <td>...</td>\n",
       "      <td>1</td>\n",
       "      <td>82.0</td>\n",
       "      <td>17,660,624</td>\n",
       "      <td>105.0</td>\n",
       "      <td>4,493,884</td>\n",
       "      <td>7,006</td>\n",
       "      <td>207,179</td>\n",
       "      <td>457,017</td>\n",
       "      <td>NaN</td>\n",
       "      <td>1</td>\n",
       "    </tr>\n",
       "    <tr>\n",
       "      <th>...</th>\n",
       "      <td>...</td>\n",
       "      <td>...</td>\n",
       "      <td>...</td>\n",
       "      <td>...</td>\n",
       "      <td>...</td>\n",
       "      <td>...</td>\n",
       "      <td>...</td>\n",
       "      <td>...</td>\n",
       "      <td>...</td>\n",
       "      <td>...</td>\n",
       "      <td>...</td>\n",
       "      <td>...</td>\n",
       "      <td>...</td>\n",
       "      <td>...</td>\n",
       "      <td>...</td>\n",
       "      <td>...</td>\n",
       "      <td>...</td>\n",
       "      <td>...</td>\n",
       "      <td>...</td>\n",
       "      <td>...</td>\n",
       "      <td>...</td>\n",
       "    </tr>\n",
       "    <tr>\n",
       "      <th>4595</th>\n",
       "      <td>For the Last Time</td>\n",
       "      <td>For the Last Time</td>\n",
       "      <td>$uicideboy$</td>\n",
       "      <td>9/5/2017</td>\n",
       "      <td>QM8DG1703420</td>\n",
       "      <td>4,585</td>\n",
       "      <td>19.4</td>\n",
       "      <td>305,049,963</td>\n",
       "      <td>65,770</td>\n",
       "      <td>5,103,054</td>\n",
       "      <td>...</td>\n",
       "      <td>NaN</td>\n",
       "      <td>2.0</td>\n",
       "      <td>14,217</td>\n",
       "      <td>NaN</td>\n",
       "      <td>20,104,066</td>\n",
       "      <td>13,184</td>\n",
       "      <td>50,633,006</td>\n",
       "      <td>656,337</td>\n",
       "      <td>NaN</td>\n",
       "      <td>1</td>\n",
       "    </tr>\n",
       "    <tr>\n",
       "      <th>4596</th>\n",
       "      <td>Dil Meri Na Sune</td>\n",
       "      <td>Dil Meri Na Sune (From \"Genius\")</td>\n",
       "      <td>Atif Aslam</td>\n",
       "      <td>7/27/2018</td>\n",
       "      <td>INT101800122</td>\n",
       "      <td>4,575</td>\n",
       "      <td>19.4</td>\n",
       "      <td>52,282,360</td>\n",
       "      <td>4,602</td>\n",
       "      <td>1,449,767</td>\n",
       "      <td>...</td>\n",
       "      <td>NaN</td>\n",
       "      <td>1.0</td>\n",
       "      <td>927</td>\n",
       "      <td>NaN</td>\n",
       "      <td>NaN</td>\n",
       "      <td>NaN</td>\n",
       "      <td>NaN</td>\n",
       "      <td>193,590</td>\n",
       "      <td>NaN</td>\n",
       "      <td>0</td>\n",
       "    </tr>\n",
       "    <tr>\n",
       "      <th>4597</th>\n",
       "      <td>Grace (feat. 42 Dugg)</td>\n",
       "      <td>My Turn</td>\n",
       "      <td>Lil Baby</td>\n",
       "      <td>2/28/2020</td>\n",
       "      <td>USUG12000043</td>\n",
       "      <td>4,571</td>\n",
       "      <td>19.4</td>\n",
       "      <td>189,972,685</td>\n",
       "      <td>72,066</td>\n",
       "      <td>6,704,802</td>\n",
       "      <td>...</td>\n",
       "      <td>NaN</td>\n",
       "      <td>1.0</td>\n",
       "      <td>74</td>\n",
       "      <td>6.0</td>\n",
       "      <td>84,426,740</td>\n",
       "      <td>28,999</td>\n",
       "      <td>NaN</td>\n",
       "      <td>1,135,998</td>\n",
       "      <td>NaN</td>\n",
       "      <td>1</td>\n",
       "    </tr>\n",
       "    <tr>\n",
       "      <th>4598</th>\n",
       "      <td>Nashe Si Chadh Gayi</td>\n",
       "      <td>November Top 10 Songs</td>\n",
       "      <td>Arijit Singh</td>\n",
       "      <td>11/8/2016</td>\n",
       "      <td>INY091600067</td>\n",
       "      <td>4,591</td>\n",
       "      <td>19.4</td>\n",
       "      <td>145,467,020</td>\n",
       "      <td>14,037</td>\n",
       "      <td>7,387,064</td>\n",
       "      <td>...</td>\n",
       "      <td>NaN</td>\n",
       "      <td>NaN</td>\n",
       "      <td>NaN</td>\n",
       "      <td>7.0</td>\n",
       "      <td>6,817,840</td>\n",
       "      <td>NaN</td>\n",
       "      <td>NaN</td>\n",
       "      <td>448,292</td>\n",
       "      <td>NaN</td>\n",
       "      <td>0</td>\n",
       "    </tr>\n",
       "    <tr>\n",
       "      <th>4599</th>\n",
       "      <td>Me Acostumbre (feat. Bad Bunny)</td>\n",
       "      <td>Me Acostumbre (feat. Bad Bunny)</td>\n",
       "      <td>Arcï¿½ï¿½</td>\n",
       "      <td>4/11/2017</td>\n",
       "      <td>USB271700107</td>\n",
       "      <td>4,593</td>\n",
       "      <td>19.4</td>\n",
       "      <td>255,740,653</td>\n",
       "      <td>32,138</td>\n",
       "      <td>14,066,526</td>\n",
       "      <td>...</td>\n",
       "      <td>NaN</td>\n",
       "      <td>4.0</td>\n",
       "      <td>127,479</td>\n",
       "      <td>4.0</td>\n",
       "      <td>69,006,739</td>\n",
       "      <td>11,320</td>\n",
       "      <td>NaN</td>\n",
       "      <td>767,006</td>\n",
       "      <td>NaN</td>\n",
       "      <td>1</td>\n",
       "    </tr>\n",
       "  </tbody>\n",
       "</table>\n",
       "<p>4600 rows × 29 columns</p>\n",
       "</div>"
      ],
      "text/plain": [
       "                                Track                        Album Name  \\\n",
       "0                 MILLION DOLLAR BABY      Million Dollar Baby - Single   \n",
       "1                         Not Like Us                       Not Like Us   \n",
       "2          i like the way you kiss me        I like the way you kiss me   \n",
       "3                             Flowers                  Flowers - Single   \n",
       "4                             Houdini                           Houdini   \n",
       "...                               ...                               ...   \n",
       "4595                For the Last Time                 For the Last Time   \n",
       "4596                 Dil Meri Na Sune  Dil Meri Na Sune (From \"Genius\")   \n",
       "4597            Grace (feat. 42 Dugg)                           My Turn   \n",
       "4598              Nashe Si Chadh Gayi             November Top 10 Songs   \n",
       "4599  Me Acostumbre (feat. Bad Bunny)   Me Acostumbre (feat. Bad Bunny)   \n",
       "\n",
       "              Artist Release Date          ISRC All Time Rank  Track Score  \\\n",
       "0      Tommy Richman    4/26/2024  QM24S2402528             1        725.4   \n",
       "1     Kendrick Lamar     5/4/2024  USUG12400910             2        545.9   \n",
       "2            Artemas    3/19/2024  QZJ842400387             3        538.4   \n",
       "3        Miley Cyrus    1/12/2023  USSM12209777             4        444.9   \n",
       "4             Eminem    5/31/2024  USUG12403398             5        423.3   \n",
       "...              ...          ...           ...           ...          ...   \n",
       "4595     $uicideboy$     9/5/2017  QM8DG1703420         4,585         19.4   \n",
       "4596      Atif Aslam    7/27/2018  INT101800122         4,575         19.4   \n",
       "4597        Lil Baby    2/28/2020  USUG12000043         4,571         19.4   \n",
       "4598    Arijit Singh    11/8/2016  INY091600067         4,591         19.4   \n",
       "4599       Arcï¿½ï¿½    4/11/2017  USB271700107         4,593         19.4   \n",
       "\n",
       "     Spotify Streams Spotify Playlist Count Spotify Playlist Reach  ...  \\\n",
       "0        390,470,936                 30,716            196,631,588  ...   \n",
       "1        323,703,884                 28,113            174,597,137  ...   \n",
       "2        601,309,283                 54,331            211,607,669  ...   \n",
       "3      2,031,280,633                269,802            136,569,078  ...   \n",
       "4        107,034,922                  7,223            151,469,874  ...   \n",
       "...              ...                    ...                    ...  ...   \n",
       "4595     305,049,963                 65,770              5,103,054  ...   \n",
       "4596      52,282,360                  4,602              1,449,767  ...   \n",
       "4597     189,972,685                 72,066              6,704,802  ...   \n",
       "4598     145,467,020                 14,037              7,387,064  ...   \n",
       "4599     255,740,653                 32,138             14,066,526  ...   \n",
       "\n",
       "      SiriusXM Spins Deezer Playlist Count Deezer Playlist Reach  \\\n",
       "0                684                  62.0            17,598,718   \n",
       "1                  3                  67.0            10,422,430   \n",
       "2                536                 136.0            36,321,847   \n",
       "3              2,182                 264.0            24,684,248   \n",
       "4                  1                  82.0            17,660,624   \n",
       "...              ...                   ...                   ...   \n",
       "4595             NaN                   2.0                14,217   \n",
       "4596             NaN                   1.0                   927   \n",
       "4597             NaN                   1.0                    74   \n",
       "4598             NaN                   NaN                   NaN   \n",
       "4599             NaN                   4.0               127,479   \n",
       "\n",
       "     Amazon Playlist Count Pandora Streams Pandora Track Stations  \\\n",
       "0                    114.0      18,004,655                 22,931   \n",
       "1                    111.0       7,780,028                 28,444   \n",
       "2                    172.0       5,022,621                  5,639   \n",
       "3                    210.0     190,260,277                203,384   \n",
       "4                    105.0       4,493,884                  7,006   \n",
       "...                    ...             ...                    ...   \n",
       "4595                   NaN      20,104,066                 13,184   \n",
       "4596                   NaN             NaN                    NaN   \n",
       "4597                   6.0      84,426,740                 28,999   \n",
       "4598                   7.0       6,817,840                    NaN   \n",
       "4599                   4.0      69,006,739                 11,320   \n",
       "\n",
       "     Soundcloud Streams  Shazam Counts TIDAL Popularity Explicit Track  \n",
       "0             4,818,457      2,669,262              NaN              0  \n",
       "1             6,623,075      1,118,279              NaN              1  \n",
       "2             7,208,651      5,285,340              NaN              0  \n",
       "3                   NaN     11,822,942              NaN              0  \n",
       "4               207,179        457,017              NaN              1  \n",
       "...                 ...            ...              ...            ...  \n",
       "4595         50,633,006        656,337              NaN              1  \n",
       "4596                NaN        193,590              NaN              0  \n",
       "4597                NaN      1,135,998              NaN              1  \n",
       "4598                NaN        448,292              NaN              0  \n",
       "4599                NaN        767,006              NaN              1  \n",
       "\n",
       "[4600 rows x 29 columns]"
      ]
     },
     "execution_count": 3,
     "metadata": {},
     "output_type": "execute_result"
    }
   ],
   "source": [
    "songs_unzipped"
   ]
  },
  {
   "cell_type": "markdown",
   "id": "98018199-7394-45e2-9098-f99f5adc66bc",
   "metadata": {},
   "source": [
    "Now, I am going to unzip the file and read it again."
   ]
  },
  {
   "cell_type": "code",
   "execution_count": 4,
   "id": "6145e991-c791-4413-ae74-82279c53180b",
   "metadata": {},
   "outputs": [],
   "source": [
    "songs = pd.read_csv('data/Most Streamed Spotify Songs 2024.csv', encoding='unicode_escape')"
   ]
  },
  {
   "cell_type": "code",
   "execution_count": 5,
   "id": "904fd7c2-4b57-424c-9a85-89788478e07b",
   "metadata": {},
   "outputs": [
    {
     "data": {
      "text/html": [
       "<div>\n",
       "<style scoped>\n",
       "    .dataframe tbody tr th:only-of-type {\n",
       "        vertical-align: middle;\n",
       "    }\n",
       "\n",
       "    .dataframe tbody tr th {\n",
       "        vertical-align: top;\n",
       "    }\n",
       "\n",
       "    .dataframe thead th {\n",
       "        text-align: right;\n",
       "    }\n",
       "</style>\n",
       "<table border=\"1\" class=\"dataframe\">\n",
       "  <thead>\n",
       "    <tr style=\"text-align: right;\">\n",
       "      <th></th>\n",
       "      <th>Track</th>\n",
       "      <th>Album Name</th>\n",
       "      <th>Artist</th>\n",
       "      <th>Release Date</th>\n",
       "      <th>ISRC</th>\n",
       "      <th>All Time Rank</th>\n",
       "      <th>Track Score</th>\n",
       "      <th>Spotify Streams</th>\n",
       "      <th>Spotify Playlist Count</th>\n",
       "      <th>Spotify Playlist Reach</th>\n",
       "      <th>...</th>\n",
       "      <th>SiriusXM Spins</th>\n",
       "      <th>Deezer Playlist Count</th>\n",
       "      <th>Deezer Playlist Reach</th>\n",
       "      <th>Amazon Playlist Count</th>\n",
       "      <th>Pandora Streams</th>\n",
       "      <th>Pandora Track Stations</th>\n",
       "      <th>Soundcloud Streams</th>\n",
       "      <th>Shazam Counts</th>\n",
       "      <th>TIDAL Popularity</th>\n",
       "      <th>Explicit Track</th>\n",
       "    </tr>\n",
       "  </thead>\n",
       "  <tbody>\n",
       "    <tr>\n",
       "      <th>0</th>\n",
       "      <td>MILLION DOLLAR BABY</td>\n",
       "      <td>Million Dollar Baby - Single</td>\n",
       "      <td>Tommy Richman</td>\n",
       "      <td>4/26/2024</td>\n",
       "      <td>QM24S2402528</td>\n",
       "      <td>1</td>\n",
       "      <td>725.4</td>\n",
       "      <td>390,470,936</td>\n",
       "      <td>30,716</td>\n",
       "      <td>196,631,588</td>\n",
       "      <td>...</td>\n",
       "      <td>684</td>\n",
       "      <td>62.0</td>\n",
       "      <td>17,598,718</td>\n",
       "      <td>114.0</td>\n",
       "      <td>18,004,655</td>\n",
       "      <td>22,931</td>\n",
       "      <td>4,818,457</td>\n",
       "      <td>2,669,262</td>\n",
       "      <td>NaN</td>\n",
       "      <td>0</td>\n",
       "    </tr>\n",
       "    <tr>\n",
       "      <th>1</th>\n",
       "      <td>Not Like Us</td>\n",
       "      <td>Not Like Us</td>\n",
       "      <td>Kendrick Lamar</td>\n",
       "      <td>5/4/2024</td>\n",
       "      <td>USUG12400910</td>\n",
       "      <td>2</td>\n",
       "      <td>545.9</td>\n",
       "      <td>323,703,884</td>\n",
       "      <td>28,113</td>\n",
       "      <td>174,597,137</td>\n",
       "      <td>...</td>\n",
       "      <td>3</td>\n",
       "      <td>67.0</td>\n",
       "      <td>10,422,430</td>\n",
       "      <td>111.0</td>\n",
       "      <td>7,780,028</td>\n",
       "      <td>28,444</td>\n",
       "      <td>6,623,075</td>\n",
       "      <td>1,118,279</td>\n",
       "      <td>NaN</td>\n",
       "      <td>1</td>\n",
       "    </tr>\n",
       "    <tr>\n",
       "      <th>2</th>\n",
       "      <td>i like the way you kiss me</td>\n",
       "      <td>I like the way you kiss me</td>\n",
       "      <td>Artemas</td>\n",
       "      <td>3/19/2024</td>\n",
       "      <td>QZJ842400387</td>\n",
       "      <td>3</td>\n",
       "      <td>538.4</td>\n",
       "      <td>601,309,283</td>\n",
       "      <td>54,331</td>\n",
       "      <td>211,607,669</td>\n",
       "      <td>...</td>\n",
       "      <td>536</td>\n",
       "      <td>136.0</td>\n",
       "      <td>36,321,847</td>\n",
       "      <td>172.0</td>\n",
       "      <td>5,022,621</td>\n",
       "      <td>5,639</td>\n",
       "      <td>7,208,651</td>\n",
       "      <td>5,285,340</td>\n",
       "      <td>NaN</td>\n",
       "      <td>0</td>\n",
       "    </tr>\n",
       "    <tr>\n",
       "      <th>3</th>\n",
       "      <td>Flowers</td>\n",
       "      <td>Flowers - Single</td>\n",
       "      <td>Miley Cyrus</td>\n",
       "      <td>1/12/2023</td>\n",
       "      <td>USSM12209777</td>\n",
       "      <td>4</td>\n",
       "      <td>444.9</td>\n",
       "      <td>2,031,280,633</td>\n",
       "      <td>269,802</td>\n",
       "      <td>136,569,078</td>\n",
       "      <td>...</td>\n",
       "      <td>2,182</td>\n",
       "      <td>264.0</td>\n",
       "      <td>24,684,248</td>\n",
       "      <td>210.0</td>\n",
       "      <td>190,260,277</td>\n",
       "      <td>203,384</td>\n",
       "      <td>NaN</td>\n",
       "      <td>11,822,942</td>\n",
       "      <td>NaN</td>\n",
       "      <td>0</td>\n",
       "    </tr>\n",
       "    <tr>\n",
       "      <th>4</th>\n",
       "      <td>Houdini</td>\n",
       "      <td>Houdini</td>\n",
       "      <td>Eminem</td>\n",
       "      <td>5/31/2024</td>\n",
       "      <td>USUG12403398</td>\n",
       "      <td>5</td>\n",
       "      <td>423.3</td>\n",
       "      <td>107,034,922</td>\n",
       "      <td>7,223</td>\n",
       "      <td>151,469,874</td>\n",
       "      <td>...</td>\n",
       "      <td>1</td>\n",
       "      <td>82.0</td>\n",
       "      <td>17,660,624</td>\n",
       "      <td>105.0</td>\n",
       "      <td>4,493,884</td>\n",
       "      <td>7,006</td>\n",
       "      <td>207,179</td>\n",
       "      <td>457,017</td>\n",
       "      <td>NaN</td>\n",
       "      <td>1</td>\n",
       "    </tr>\n",
       "    <tr>\n",
       "      <th>...</th>\n",
       "      <td>...</td>\n",
       "      <td>...</td>\n",
       "      <td>...</td>\n",
       "      <td>...</td>\n",
       "      <td>...</td>\n",
       "      <td>...</td>\n",
       "      <td>...</td>\n",
       "      <td>...</td>\n",
       "      <td>...</td>\n",
       "      <td>...</td>\n",
       "      <td>...</td>\n",
       "      <td>...</td>\n",
       "      <td>...</td>\n",
       "      <td>...</td>\n",
       "      <td>...</td>\n",
       "      <td>...</td>\n",
       "      <td>...</td>\n",
       "      <td>...</td>\n",
       "      <td>...</td>\n",
       "      <td>...</td>\n",
       "      <td>...</td>\n",
       "    </tr>\n",
       "    <tr>\n",
       "      <th>4595</th>\n",
       "      <td>For the Last Time</td>\n",
       "      <td>For the Last Time</td>\n",
       "      <td>$uicideboy$</td>\n",
       "      <td>9/5/2017</td>\n",
       "      <td>QM8DG1703420</td>\n",
       "      <td>4,585</td>\n",
       "      <td>19.4</td>\n",
       "      <td>305,049,963</td>\n",
       "      <td>65,770</td>\n",
       "      <td>5,103,054</td>\n",
       "      <td>...</td>\n",
       "      <td>NaN</td>\n",
       "      <td>2.0</td>\n",
       "      <td>14,217</td>\n",
       "      <td>NaN</td>\n",
       "      <td>20,104,066</td>\n",
       "      <td>13,184</td>\n",
       "      <td>50,633,006</td>\n",
       "      <td>656,337</td>\n",
       "      <td>NaN</td>\n",
       "      <td>1</td>\n",
       "    </tr>\n",
       "    <tr>\n",
       "      <th>4596</th>\n",
       "      <td>Dil Meri Na Sune</td>\n",
       "      <td>Dil Meri Na Sune (From \"Genius\")</td>\n",
       "      <td>Atif Aslam</td>\n",
       "      <td>7/27/2018</td>\n",
       "      <td>INT101800122</td>\n",
       "      <td>4,575</td>\n",
       "      <td>19.4</td>\n",
       "      <td>52,282,360</td>\n",
       "      <td>4,602</td>\n",
       "      <td>1,449,767</td>\n",
       "      <td>...</td>\n",
       "      <td>NaN</td>\n",
       "      <td>1.0</td>\n",
       "      <td>927</td>\n",
       "      <td>NaN</td>\n",
       "      <td>NaN</td>\n",
       "      <td>NaN</td>\n",
       "      <td>NaN</td>\n",
       "      <td>193,590</td>\n",
       "      <td>NaN</td>\n",
       "      <td>0</td>\n",
       "    </tr>\n",
       "    <tr>\n",
       "      <th>4597</th>\n",
       "      <td>Grace (feat. 42 Dugg)</td>\n",
       "      <td>My Turn</td>\n",
       "      <td>Lil Baby</td>\n",
       "      <td>2/28/2020</td>\n",
       "      <td>USUG12000043</td>\n",
       "      <td>4,571</td>\n",
       "      <td>19.4</td>\n",
       "      <td>189,972,685</td>\n",
       "      <td>72,066</td>\n",
       "      <td>6,704,802</td>\n",
       "      <td>...</td>\n",
       "      <td>NaN</td>\n",
       "      <td>1.0</td>\n",
       "      <td>74</td>\n",
       "      <td>6.0</td>\n",
       "      <td>84,426,740</td>\n",
       "      <td>28,999</td>\n",
       "      <td>NaN</td>\n",
       "      <td>1,135,998</td>\n",
       "      <td>NaN</td>\n",
       "      <td>1</td>\n",
       "    </tr>\n",
       "    <tr>\n",
       "      <th>4598</th>\n",
       "      <td>Nashe Si Chadh Gayi</td>\n",
       "      <td>November Top 10 Songs</td>\n",
       "      <td>Arijit Singh</td>\n",
       "      <td>11/8/2016</td>\n",
       "      <td>INY091600067</td>\n",
       "      <td>4,591</td>\n",
       "      <td>19.4</td>\n",
       "      <td>145,467,020</td>\n",
       "      <td>14,037</td>\n",
       "      <td>7,387,064</td>\n",
       "      <td>...</td>\n",
       "      <td>NaN</td>\n",
       "      <td>NaN</td>\n",
       "      <td>NaN</td>\n",
       "      <td>7.0</td>\n",
       "      <td>6,817,840</td>\n",
       "      <td>NaN</td>\n",
       "      <td>NaN</td>\n",
       "      <td>448,292</td>\n",
       "      <td>NaN</td>\n",
       "      <td>0</td>\n",
       "    </tr>\n",
       "    <tr>\n",
       "      <th>4599</th>\n",
       "      <td>Me Acostumbre (feat. Bad Bunny)</td>\n",
       "      <td>Me Acostumbre (feat. Bad Bunny)</td>\n",
       "      <td>Arcï¿½ï¿½</td>\n",
       "      <td>4/11/2017</td>\n",
       "      <td>USB271700107</td>\n",
       "      <td>4,593</td>\n",
       "      <td>19.4</td>\n",
       "      <td>255,740,653</td>\n",
       "      <td>32,138</td>\n",
       "      <td>14,066,526</td>\n",
       "      <td>...</td>\n",
       "      <td>NaN</td>\n",
       "      <td>4.0</td>\n",
       "      <td>127,479</td>\n",
       "      <td>4.0</td>\n",
       "      <td>69,006,739</td>\n",
       "      <td>11,320</td>\n",
       "      <td>NaN</td>\n",
       "      <td>767,006</td>\n",
       "      <td>NaN</td>\n",
       "      <td>1</td>\n",
       "    </tr>\n",
       "  </tbody>\n",
       "</table>\n",
       "<p>4600 rows × 29 columns</p>\n",
       "</div>"
      ],
      "text/plain": [
       "                                Track                        Album Name  \\\n",
       "0                 MILLION DOLLAR BABY      Million Dollar Baby - Single   \n",
       "1                         Not Like Us                       Not Like Us   \n",
       "2          i like the way you kiss me        I like the way you kiss me   \n",
       "3                             Flowers                  Flowers - Single   \n",
       "4                             Houdini                           Houdini   \n",
       "...                               ...                               ...   \n",
       "4595                For the Last Time                 For the Last Time   \n",
       "4596                 Dil Meri Na Sune  Dil Meri Na Sune (From \"Genius\")   \n",
       "4597            Grace (feat. 42 Dugg)                           My Turn   \n",
       "4598              Nashe Si Chadh Gayi             November Top 10 Songs   \n",
       "4599  Me Acostumbre (feat. Bad Bunny)   Me Acostumbre (feat. Bad Bunny)   \n",
       "\n",
       "              Artist Release Date          ISRC All Time Rank  Track Score  \\\n",
       "0      Tommy Richman    4/26/2024  QM24S2402528             1        725.4   \n",
       "1     Kendrick Lamar     5/4/2024  USUG12400910             2        545.9   \n",
       "2            Artemas    3/19/2024  QZJ842400387             3        538.4   \n",
       "3        Miley Cyrus    1/12/2023  USSM12209777             4        444.9   \n",
       "4             Eminem    5/31/2024  USUG12403398             5        423.3   \n",
       "...              ...          ...           ...           ...          ...   \n",
       "4595     $uicideboy$     9/5/2017  QM8DG1703420         4,585         19.4   \n",
       "4596      Atif Aslam    7/27/2018  INT101800122         4,575         19.4   \n",
       "4597        Lil Baby    2/28/2020  USUG12000043         4,571         19.4   \n",
       "4598    Arijit Singh    11/8/2016  INY091600067         4,591         19.4   \n",
       "4599       Arcï¿½ï¿½    4/11/2017  USB271700107         4,593         19.4   \n",
       "\n",
       "     Spotify Streams Spotify Playlist Count Spotify Playlist Reach  ...  \\\n",
       "0        390,470,936                 30,716            196,631,588  ...   \n",
       "1        323,703,884                 28,113            174,597,137  ...   \n",
       "2        601,309,283                 54,331            211,607,669  ...   \n",
       "3      2,031,280,633                269,802            136,569,078  ...   \n",
       "4        107,034,922                  7,223            151,469,874  ...   \n",
       "...              ...                    ...                    ...  ...   \n",
       "4595     305,049,963                 65,770              5,103,054  ...   \n",
       "4596      52,282,360                  4,602              1,449,767  ...   \n",
       "4597     189,972,685                 72,066              6,704,802  ...   \n",
       "4598     145,467,020                 14,037              7,387,064  ...   \n",
       "4599     255,740,653                 32,138             14,066,526  ...   \n",
       "\n",
       "      SiriusXM Spins Deezer Playlist Count Deezer Playlist Reach  \\\n",
       "0                684                  62.0            17,598,718   \n",
       "1                  3                  67.0            10,422,430   \n",
       "2                536                 136.0            36,321,847   \n",
       "3              2,182                 264.0            24,684,248   \n",
       "4                  1                  82.0            17,660,624   \n",
       "...              ...                   ...                   ...   \n",
       "4595             NaN                   2.0                14,217   \n",
       "4596             NaN                   1.0                   927   \n",
       "4597             NaN                   1.0                    74   \n",
       "4598             NaN                   NaN                   NaN   \n",
       "4599             NaN                   4.0               127,479   \n",
       "\n",
       "     Amazon Playlist Count Pandora Streams Pandora Track Stations  \\\n",
       "0                    114.0      18,004,655                 22,931   \n",
       "1                    111.0       7,780,028                 28,444   \n",
       "2                    172.0       5,022,621                  5,639   \n",
       "3                    210.0     190,260,277                203,384   \n",
       "4                    105.0       4,493,884                  7,006   \n",
       "...                    ...             ...                    ...   \n",
       "4595                   NaN      20,104,066                 13,184   \n",
       "4596                   NaN             NaN                    NaN   \n",
       "4597                   6.0      84,426,740                 28,999   \n",
       "4598                   7.0       6,817,840                    NaN   \n",
       "4599                   4.0      69,006,739                 11,320   \n",
       "\n",
       "     Soundcloud Streams  Shazam Counts TIDAL Popularity Explicit Track  \n",
       "0             4,818,457      2,669,262              NaN              0  \n",
       "1             6,623,075      1,118,279              NaN              1  \n",
       "2             7,208,651      5,285,340              NaN              0  \n",
       "3                   NaN     11,822,942              NaN              0  \n",
       "4               207,179        457,017              NaN              1  \n",
       "...                 ...            ...              ...            ...  \n",
       "4595         50,633,006        656,337              NaN              1  \n",
       "4596                NaN        193,590              NaN              0  \n",
       "4597                NaN      1,135,998              NaN              1  \n",
       "4598                NaN        448,292              NaN              0  \n",
       "4599                NaN        767,006              NaN              1  \n",
       "\n",
       "[4600 rows x 29 columns]"
      ]
     },
     "execution_count": 5,
     "metadata": {},
     "output_type": "execute_result"
    }
   ],
   "source": [
    "songs"
   ]
  },
  {
   "cell_type": "markdown",
   "id": "84bb1876-3ab5-4d66-86f6-7e1ede99fffe",
   "metadata": {},
   "source": [
    "### Problem 2. Perform some cleaning (1 point)\n",
    "Ensure all data has been read correctly; check the data types. Give the columns better names (e.g. `all_time_rank`, `track_score`, etc.). To do so, try to use `apply()` instead of a manual mapping between old and new name. Get rid of any unnecessary ones."
   ]
  },
  {
   "cell_type": "code",
   "execution_count": 6,
   "id": "b0a8a054-a18f-42b5-8dc3-e840e816f27c",
   "metadata": {},
   "outputs": [
    {
     "data": {
      "text/plain": [
       "Track                          object\n",
       "Album Name                     object\n",
       "Artist                         object\n",
       "Release Date                   object\n",
       "ISRC                           object\n",
       "All Time Rank                  object\n",
       "Track Score                   float64\n",
       "Spotify Streams                object\n",
       "Spotify Playlist Count         object\n",
       "Spotify Playlist Reach         object\n",
       "Spotify Popularity            float64\n",
       "YouTube Views                  object\n",
       "YouTube Likes                  object\n",
       "TikTok Posts                   object\n",
       "TikTok Likes                   object\n",
       "TikTok Views                   object\n",
       "YouTube Playlist Reach         object\n",
       "Apple Music Playlist Count    float64\n",
       "AirPlay Spins                  object\n",
       "SiriusXM Spins                 object\n",
       "Deezer Playlist Count         float64\n",
       "Deezer Playlist Reach          object\n",
       "Amazon Playlist Count         float64\n",
       "Pandora Streams                object\n",
       "Pandora Track Stations         object\n",
       "Soundcloud Streams             object\n",
       "Shazam Counts                  object\n",
       "TIDAL Popularity              float64\n",
       "Explicit Track                  int64\n",
       "dtype: object"
      ]
     },
     "execution_count": 6,
     "metadata": {},
     "output_type": "execute_result"
    }
   ],
   "source": [
    "songs.dtypes"
   ]
  },
  {
   "cell_type": "code",
   "execution_count": 7,
   "id": "0ae21260-ade8-4dba-aeac-22b3a07a8c32",
   "metadata": {},
   "outputs": [
    {
     "data": {
      "text/plain": [
       "Index(['Track', 'Album Name', 'Artist', 'Release Date', 'ISRC',\n",
       "       'All Time Rank', 'Track Score', 'Spotify Streams',\n",
       "       'Spotify Playlist Count', 'Spotify Playlist Reach',\n",
       "       'Spotify Popularity', 'YouTube Views', 'YouTube Likes', 'TikTok Posts',\n",
       "       'TikTok Likes', 'TikTok Views', 'YouTube Playlist Reach',\n",
       "       'Apple Music Playlist Count', 'AirPlay Spins', 'SiriusXM Spins',\n",
       "       'Deezer Playlist Count', 'Deezer Playlist Reach',\n",
       "       'Amazon Playlist Count', 'Pandora Streams', 'Pandora Track Stations',\n",
       "       'Soundcloud Streams', 'Shazam Counts', 'TIDAL Popularity',\n",
       "       'Explicit Track'],\n",
       "      dtype='object')"
      ]
     },
     "execution_count": 7,
     "metadata": {},
     "output_type": "execute_result"
    }
   ],
   "source": [
    "songs.columns"
   ]
  },
  {
   "cell_type": "markdown",
   "id": "664e9a4f-cf40-47b9-9c08-8160c246058b",
   "metadata": {},
   "source": [
    "Bad looking column names!"
   ]
  },
  {
   "cell_type": "code",
   "execution_count": 8,
   "id": "bbc39871-4921-4510-a279-cbc49ff23506",
   "metadata": {},
   "outputs": [],
   "source": [
    "def to_snake_case(column_name):\n",
    "    column_name = column_name.replace(' ', '_')\n",
    "    return column_name.lower()"
   ]
  },
  {
   "cell_type": "code",
   "execution_count": 9,
   "id": "5632f30c-5fd2-4076-bf75-eeab67756421",
   "metadata": {},
   "outputs": [],
   "source": [
    "songs.columns = [to_snake_case(col) for col in songs.columns]"
   ]
  },
  {
   "cell_type": "code",
   "execution_count": 10,
   "id": "d6629d1f-27d0-4a0b-bab0-04eb9792a574",
   "metadata": {},
   "outputs": [
    {
     "data": {
      "text/plain": [
       "Index(['track', 'album_name', 'artist', 'release_date', 'isrc',\n",
       "       'all_time_rank', 'track_score', 'spotify_streams',\n",
       "       'spotify_playlist_count', 'spotify_playlist_reach',\n",
       "       'spotify_popularity', 'youtube_views', 'youtube_likes', 'tiktok_posts',\n",
       "       'tiktok_likes', 'tiktok_views', 'youtube_playlist_reach',\n",
       "       'apple_music_playlist_count', 'airplay_spins', 'siriusxm_spins',\n",
       "       'deezer_playlist_count', 'deezer_playlist_reach',\n",
       "       'amazon_playlist_count', 'pandora_streams', 'pandora_track_stations',\n",
       "       'soundcloud_streams', 'shazam_counts', 'tidal_popularity',\n",
       "       'explicit_track'],\n",
       "      dtype='object')"
      ]
     },
     "execution_count": 10,
     "metadata": {},
     "output_type": "execute_result"
    }
   ],
   "source": [
    "songs.columns"
   ]
  },
  {
   "cell_type": "markdown",
   "id": "383b8e6a-a735-44e5-9f9e-8e9218dddfc8",
   "metadata": {},
   "source": [
    "Better looking now <3"
   ]
  },
  {
   "cell_type": "markdown",
   "id": "0ae40d8d-4831-484d-a464-dda392703366",
   "metadata": {},
   "source": [
    "### Problem 3. Most productive artists (1 point)\n",
    "Who are the five artists with the most songs in the dataset?\n",
    "\n",
    "Who are the five \"clean-mouthed\" artists (i.e., with no explicit songs)? **Note:** We're not going into details but we can start a discussion about whether a song needs swearing to be popular."
   ]
  },
  {
   "cell_type": "markdown",
   "id": "d9bd5a61-b465-4497-a3f6-fbdc509c768e",
   "metadata": {},
   "source": [
    "So, first of all, I need to see that in the `track` column there aren't any NaN values."
   ]
  },
  {
   "cell_type": "code",
   "execution_count": 11,
   "id": "820e725e-2ac1-47df-b22f-3c8e98611a27",
   "metadata": {},
   "outputs": [
    {
     "data": {
      "text/plain": [
       "array([False])"
      ]
     },
     "execution_count": 11,
     "metadata": {},
     "output_type": "execute_result"
    }
   ],
   "source": [
    "songs['track'].isna().unique()"
   ]
  },
  {
   "cell_type": "markdown",
   "id": "d0ee7b3d-7121-4377-9999-b37163b298bf",
   "metadata": {},
   "source": [
    "To find the artists with the most songs I am going to use the `value_counts()` method which returns a Series containing counts of unique values in descending order so that the first element is the most frequently-occurring element.."
   ]
  },
  {
   "cell_type": "code",
   "execution_count": 12,
   "id": "41d1a228-a27b-4ed2-9a37-71ac4852e323",
   "metadata": {},
   "outputs": [],
   "source": [
    "artist_song_counts = songs['artist'].value_counts()"
   ]
  },
  {
   "cell_type": "code",
   "execution_count": 13,
   "id": "a647bdd9-b9cd-4c2c-9d4b-429cbab2f01d",
   "metadata": {},
   "outputs": [
    {
     "data": {
      "text/plain": [
       "artist\n",
       "Drake                       63\n",
       "Taylor Swift                63\n",
       "Bad Bunny                   60\n",
       "KAROL G                     32\n",
       "The Weeknd                  31\n",
       "                            ..\n",
       "Carrier                      1\n",
       "Javed Ali                    1\n",
       "The King Khan & BBQ Show     1\n",
       "Marca MP                     1\n",
       "BUSHIDO ZHO                  1\n",
       "Name: count, Length: 1999, dtype: int64"
      ]
     },
     "execution_count": 13,
     "metadata": {},
     "output_type": "execute_result"
    }
   ],
   "source": [
    "artist_song_counts"
   ]
  },
  {
   "cell_type": "code",
   "execution_count": 14,
   "id": "c993a8d8-8887-47eb-9b4b-d9e00a2f354d",
   "metadata": {},
   "outputs": [
    {
     "name": "stdout",
     "output_type": "stream",
     "text": [
      "Top five artists with the most songs are:\n"
     ]
    },
    {
     "data": {
      "text/plain": [
       "artist\n",
       "Drake           63\n",
       "Taylor Swift    63\n",
       "Bad Bunny       60\n",
       "KAROL G         32\n",
       "The Weeknd      31\n",
       "Name: count, dtype: int64"
      ]
     },
     "execution_count": 14,
     "metadata": {},
     "output_type": "execute_result"
    }
   ],
   "source": [
    "print(\"Top five artists with the most songs are:\")\n",
    "artist_song_counts.head(5)"
   ]
  },
  {
   "cell_type": "code",
   "execution_count": 15,
   "id": "49d45c5d-ae65-4324-b869-c5075667f690",
   "metadata": {},
   "outputs": [
    {
     "data": {
      "text/plain": [
       "0       0\n",
       "1       1\n",
       "2       0\n",
       "3       0\n",
       "4       1\n",
       "       ..\n",
       "4595    1\n",
       "4596    0\n",
       "4597    1\n",
       "4598    0\n",
       "4599    1\n",
       "Name: explicit_track, Length: 4600, dtype: int64"
      ]
     },
     "execution_count": 15,
     "metadata": {},
     "output_type": "execute_result"
    }
   ],
   "source": [
    "songs.explicit_track"
   ]
  },
  {
   "cell_type": "code",
   "execution_count": 16,
   "id": "e194ac50-7bff-468d-965b-ee8646c14b6a",
   "metadata": {},
   "outputs": [
    {
     "data": {
      "text/plain": [
       "array([0, 1], dtype=int64)"
      ]
     },
     "execution_count": 16,
     "metadata": {},
     "output_type": "execute_result"
    }
   ],
   "source": [
    "songs.explicit_track.unique()"
   ]
  },
  {
   "cell_type": "code",
   "execution_count": 17,
   "id": "7e3ed3a6-a908-4fc4-baf9-f34e14390871",
   "metadata": {},
   "outputs": [
    {
     "data": {
      "text/html": [
       "<div>\n",
       "<style scoped>\n",
       "    .dataframe tbody tr th:only-of-type {\n",
       "        vertical-align: middle;\n",
       "    }\n",
       "\n",
       "    .dataframe tbody tr th {\n",
       "        vertical-align: top;\n",
       "    }\n",
       "\n",
       "    .dataframe thead th {\n",
       "        text-align: right;\n",
       "    }\n",
       "</style>\n",
       "<table border=\"1\" class=\"dataframe\">\n",
       "  <thead>\n",
       "    <tr style=\"text-align: right;\">\n",
       "      <th></th>\n",
       "      <th>track</th>\n",
       "      <th>album_name</th>\n",
       "      <th>artist</th>\n",
       "      <th>release_date</th>\n",
       "      <th>isrc</th>\n",
       "      <th>all_time_rank</th>\n",
       "      <th>track_score</th>\n",
       "      <th>spotify_streams</th>\n",
       "      <th>spotify_playlist_count</th>\n",
       "      <th>spotify_playlist_reach</th>\n",
       "      <th>...</th>\n",
       "      <th>siriusxm_spins</th>\n",
       "      <th>deezer_playlist_count</th>\n",
       "      <th>deezer_playlist_reach</th>\n",
       "      <th>amazon_playlist_count</th>\n",
       "      <th>pandora_streams</th>\n",
       "      <th>pandora_track_stations</th>\n",
       "      <th>soundcloud_streams</th>\n",
       "      <th>shazam_counts</th>\n",
       "      <th>tidal_popularity</th>\n",
       "      <th>explicit_track</th>\n",
       "    </tr>\n",
       "  </thead>\n",
       "  <tbody>\n",
       "    <tr>\n",
       "      <th>0</th>\n",
       "      <td>MILLION DOLLAR BABY</td>\n",
       "      <td>Million Dollar Baby - Single</td>\n",
       "      <td>Tommy Richman</td>\n",
       "      <td>4/26/2024</td>\n",
       "      <td>QM24S2402528</td>\n",
       "      <td>1</td>\n",
       "      <td>725.4</td>\n",
       "      <td>390,470,936</td>\n",
       "      <td>30,716</td>\n",
       "      <td>196,631,588</td>\n",
       "      <td>...</td>\n",
       "      <td>684</td>\n",
       "      <td>62.0</td>\n",
       "      <td>17,598,718</td>\n",
       "      <td>114.0</td>\n",
       "      <td>18,004,655</td>\n",
       "      <td>22,931</td>\n",
       "      <td>4,818,457</td>\n",
       "      <td>2,669,262</td>\n",
       "      <td>NaN</td>\n",
       "      <td>0</td>\n",
       "    </tr>\n",
       "    <tr>\n",
       "      <th>2</th>\n",
       "      <td>i like the way you kiss me</td>\n",
       "      <td>I like the way you kiss me</td>\n",
       "      <td>Artemas</td>\n",
       "      <td>3/19/2024</td>\n",
       "      <td>QZJ842400387</td>\n",
       "      <td>3</td>\n",
       "      <td>538.4</td>\n",
       "      <td>601,309,283</td>\n",
       "      <td>54,331</td>\n",
       "      <td>211,607,669</td>\n",
       "      <td>...</td>\n",
       "      <td>536</td>\n",
       "      <td>136.0</td>\n",
       "      <td>36,321,847</td>\n",
       "      <td>172.0</td>\n",
       "      <td>5,022,621</td>\n",
       "      <td>5,639</td>\n",
       "      <td>7,208,651</td>\n",
       "      <td>5,285,340</td>\n",
       "      <td>NaN</td>\n",
       "      <td>0</td>\n",
       "    </tr>\n",
       "    <tr>\n",
       "      <th>3</th>\n",
       "      <td>Flowers</td>\n",
       "      <td>Flowers - Single</td>\n",
       "      <td>Miley Cyrus</td>\n",
       "      <td>1/12/2023</td>\n",
       "      <td>USSM12209777</td>\n",
       "      <td>4</td>\n",
       "      <td>444.9</td>\n",
       "      <td>2,031,280,633</td>\n",
       "      <td>269,802</td>\n",
       "      <td>136,569,078</td>\n",
       "      <td>...</td>\n",
       "      <td>2,182</td>\n",
       "      <td>264.0</td>\n",
       "      <td>24,684,248</td>\n",
       "      <td>210.0</td>\n",
       "      <td>190,260,277</td>\n",
       "      <td>203,384</td>\n",
       "      <td>NaN</td>\n",
       "      <td>11,822,942</td>\n",
       "      <td>NaN</td>\n",
       "      <td>0</td>\n",
       "    </tr>\n",
       "    <tr>\n",
       "      <th>6</th>\n",
       "      <td>Beautiful Things</td>\n",
       "      <td>Beautiful Things</td>\n",
       "      <td>Benson Boone</td>\n",
       "      <td>1/18/2024</td>\n",
       "      <td>USWB12307016</td>\n",
       "      <td>7</td>\n",
       "      <td>407.2</td>\n",
       "      <td>900,158,751</td>\n",
       "      <td>73,118</td>\n",
       "      <td>201,585,714</td>\n",
       "      <td>...</td>\n",
       "      <td>429</td>\n",
       "      <td>168.0</td>\n",
       "      <td>48,197,850</td>\n",
       "      <td>154.0</td>\n",
       "      <td>65,447,476</td>\n",
       "      <td>57,372</td>\n",
       "      <td>NaN</td>\n",
       "      <td>9,990,302</td>\n",
       "      <td>NaN</td>\n",
       "      <td>0</td>\n",
       "    </tr>\n",
       "    <tr>\n",
       "      <th>12</th>\n",
       "      <td>LUNCH</td>\n",
       "      <td>HIT ME HARD AND SOFT</td>\n",
       "      <td>Billie Eilish</td>\n",
       "      <td>5/17/2024</td>\n",
       "      <td>USUM72401991</td>\n",
       "      <td>13</td>\n",
       "      <td>316.3</td>\n",
       "      <td>221,636,195</td>\n",
       "      <td>13,800</td>\n",
       "      <td>197,280,692</td>\n",
       "      <td>...</td>\n",
       "      <td>45</td>\n",
       "      <td>138.0</td>\n",
       "      <td>38,243,636</td>\n",
       "      <td>163.0</td>\n",
       "      <td>1,354,692</td>\n",
       "      <td>1,219</td>\n",
       "      <td>1,313,357</td>\n",
       "      <td>450,344</td>\n",
       "      <td>NaN</td>\n",
       "      <td>0</td>\n",
       "    </tr>\n",
       "    <tr>\n",
       "      <th>...</th>\n",
       "      <td>...</td>\n",
       "      <td>...</td>\n",
       "      <td>...</td>\n",
       "      <td>...</td>\n",
       "      <td>...</td>\n",
       "      <td>...</td>\n",
       "      <td>...</td>\n",
       "      <td>...</td>\n",
       "      <td>...</td>\n",
       "      <td>...</td>\n",
       "      <td>...</td>\n",
       "      <td>...</td>\n",
       "      <td>...</td>\n",
       "      <td>...</td>\n",
       "      <td>...</td>\n",
       "      <td>...</td>\n",
       "      <td>...</td>\n",
       "      <td>...</td>\n",
       "      <td>...</td>\n",
       "      <td>...</td>\n",
       "      <td>...</td>\n",
       "    </tr>\n",
       "    <tr>\n",
       "      <th>4591</th>\n",
       "      <td>Happiest Year</td>\n",
       "      <td>Feel Something (Deluxe)</td>\n",
       "      <td>Jaymes Young</td>\n",
       "      <td>6/23/2017</td>\n",
       "      <td>USAT21903715</td>\n",
       "      <td>4,540</td>\n",
       "      <td>19.5</td>\n",
       "      <td>472,408,276</td>\n",
       "      <td>84,220</td>\n",
       "      <td>23,944,018</td>\n",
       "      <td>...</td>\n",
       "      <td>13</td>\n",
       "      <td>10.0</td>\n",
       "      <td>101,920</td>\n",
       "      <td>1.0</td>\n",
       "      <td>10,855,294</td>\n",
       "      <td>18,606</td>\n",
       "      <td>NaN</td>\n",
       "      <td>1,724,972</td>\n",
       "      <td>NaN</td>\n",
       "      <td>0</td>\n",
       "    </tr>\n",
       "    <tr>\n",
       "      <th>4592</th>\n",
       "      <td>3 Haselnï¿½ï¿</td>\n",
       "      <td>3 Haselnï¿½ï¿½sse - Si</td>\n",
       "      <td>Jaques Raupï¿</td>\n",
       "      <td>12/1/2023</td>\n",
       "      <td>DEN062300845</td>\n",
       "      <td>4,595</td>\n",
       "      <td>19.4</td>\n",
       "      <td>25,822,176</td>\n",
       "      <td>15,387</td>\n",
       "      <td>2,650,670</td>\n",
       "      <td>...</td>\n",
       "      <td>NaN</td>\n",
       "      <td>9.0</td>\n",
       "      <td>163,999</td>\n",
       "      <td>1.0</td>\n",
       "      <td>NaN</td>\n",
       "      <td>NaN</td>\n",
       "      <td>33,508</td>\n",
       "      <td>312,177</td>\n",
       "      <td>NaN</td>\n",
       "      <td>0</td>\n",
       "    </tr>\n",
       "    <tr>\n",
       "      <th>4593</th>\n",
       "      <td>Jaragandi (From \"Game Changer\") (Telugu)</td>\n",
       "      <td>Jaragandi (From \"Game Changer\") (Telugu)</td>\n",
       "      <td>Thaman S</td>\n",
       "      <td>3/27/2024</td>\n",
       "      <td>INH102405594</td>\n",
       "      <td>4,587</td>\n",
       "      <td>19.4</td>\n",
       "      <td>3,754,914</td>\n",
       "      <td>101</td>\n",
       "      <td>1,306,604</td>\n",
       "      <td>...</td>\n",
       "      <td>NaN</td>\n",
       "      <td>NaN</td>\n",
       "      <td>NaN</td>\n",
       "      <td>8.0</td>\n",
       "      <td>NaN</td>\n",
       "      <td>NaN</td>\n",
       "      <td>NaN</td>\n",
       "      <td>3,169</td>\n",
       "      <td>NaN</td>\n",
       "      <td>0</td>\n",
       "    </tr>\n",
       "    <tr>\n",
       "      <th>4596</th>\n",
       "      <td>Dil Meri Na Sune</td>\n",
       "      <td>Dil Meri Na Sune (From \"Genius\")</td>\n",
       "      <td>Atif Aslam</td>\n",
       "      <td>7/27/2018</td>\n",
       "      <td>INT101800122</td>\n",
       "      <td>4,575</td>\n",
       "      <td>19.4</td>\n",
       "      <td>52,282,360</td>\n",
       "      <td>4,602</td>\n",
       "      <td>1,449,767</td>\n",
       "      <td>...</td>\n",
       "      <td>NaN</td>\n",
       "      <td>1.0</td>\n",
       "      <td>927</td>\n",
       "      <td>NaN</td>\n",
       "      <td>NaN</td>\n",
       "      <td>NaN</td>\n",
       "      <td>NaN</td>\n",
       "      <td>193,590</td>\n",
       "      <td>NaN</td>\n",
       "      <td>0</td>\n",
       "    </tr>\n",
       "    <tr>\n",
       "      <th>4598</th>\n",
       "      <td>Nashe Si Chadh Gayi</td>\n",
       "      <td>November Top 10 Songs</td>\n",
       "      <td>Arijit Singh</td>\n",
       "      <td>11/8/2016</td>\n",
       "      <td>INY091600067</td>\n",
       "      <td>4,591</td>\n",
       "      <td>19.4</td>\n",
       "      <td>145,467,020</td>\n",
       "      <td>14,037</td>\n",
       "      <td>7,387,064</td>\n",
       "      <td>...</td>\n",
       "      <td>NaN</td>\n",
       "      <td>NaN</td>\n",
       "      <td>NaN</td>\n",
       "      <td>7.0</td>\n",
       "      <td>6,817,840</td>\n",
       "      <td>NaN</td>\n",
       "      <td>NaN</td>\n",
       "      <td>448,292</td>\n",
       "      <td>NaN</td>\n",
       "      <td>0</td>\n",
       "    </tr>\n",
       "  </tbody>\n",
       "</table>\n",
       "<p>2949 rows × 29 columns</p>\n",
       "</div>"
      ],
      "text/plain": [
       "                                         track  \\\n",
       "0                          MILLION DOLLAR BABY   \n",
       "2                   i like the way you kiss me   \n",
       "3                                      Flowers   \n",
       "6                             Beautiful Things   \n",
       "12                                       LUNCH   \n",
       "...                                        ...   \n",
       "4591                             Happiest Year   \n",
       "4592                             3 Haselnï¿½ï¿   \n",
       "4593  Jaragandi (From \"Game Changer\") (Telugu)   \n",
       "4596                          Dil Meri Na Sune   \n",
       "4598                       Nashe Si Chadh Gayi   \n",
       "\n",
       "                                    album_name         artist release_date  \\\n",
       "0                 Million Dollar Baby - Single  Tommy Richman    4/26/2024   \n",
       "2                   I like the way you kiss me        Artemas    3/19/2024   \n",
       "3                             Flowers - Single    Miley Cyrus    1/12/2023   \n",
       "6                             Beautiful Things   Benson Boone    1/18/2024   \n",
       "12                        HIT ME HARD AND SOFT  Billie Eilish    5/17/2024   \n",
       "...                                        ...            ...          ...   \n",
       "4591                   Feel Something (Deluxe)   Jaymes Young    6/23/2017   \n",
       "4592                    3 Haselnï¿½ï¿½sse - Si  Jaques Raupï¿    12/1/2023   \n",
       "4593  Jaragandi (From \"Game Changer\") (Telugu)       Thaman S    3/27/2024   \n",
       "4596          Dil Meri Na Sune (From \"Genius\")     Atif Aslam    7/27/2018   \n",
       "4598                     November Top 10 Songs   Arijit Singh    11/8/2016   \n",
       "\n",
       "              isrc all_time_rank  track_score spotify_streams  \\\n",
       "0     QM24S2402528             1        725.4     390,470,936   \n",
       "2     QZJ842400387             3        538.4     601,309,283   \n",
       "3     USSM12209777             4        444.9   2,031,280,633   \n",
       "6     USWB12307016             7        407.2     900,158,751   \n",
       "12    USUM72401991            13        316.3     221,636,195   \n",
       "...            ...           ...          ...             ...   \n",
       "4591  USAT21903715         4,540         19.5     472,408,276   \n",
       "4592  DEN062300845         4,595         19.4      25,822,176   \n",
       "4593  INH102405594         4,587         19.4       3,754,914   \n",
       "4596  INT101800122         4,575         19.4      52,282,360   \n",
       "4598  INY091600067         4,591         19.4     145,467,020   \n",
       "\n",
       "     spotify_playlist_count spotify_playlist_reach  ...  siriusxm_spins  \\\n",
       "0                    30,716            196,631,588  ...             684   \n",
       "2                    54,331            211,607,669  ...             536   \n",
       "3                   269,802            136,569,078  ...           2,182   \n",
       "6                    73,118            201,585,714  ...             429   \n",
       "12                   13,800            197,280,692  ...              45   \n",
       "...                     ...                    ...  ...             ...   \n",
       "4591                 84,220             23,944,018  ...              13   \n",
       "4592                 15,387              2,650,670  ...             NaN   \n",
       "4593                    101              1,306,604  ...             NaN   \n",
       "4596                  4,602              1,449,767  ...             NaN   \n",
       "4598                 14,037              7,387,064  ...             NaN   \n",
       "\n",
       "     deezer_playlist_count deezer_playlist_reach amazon_playlist_count  \\\n",
       "0                     62.0            17,598,718                 114.0   \n",
       "2                    136.0            36,321,847                 172.0   \n",
       "3                    264.0            24,684,248                 210.0   \n",
       "6                    168.0            48,197,850                 154.0   \n",
       "12                   138.0            38,243,636                 163.0   \n",
       "...                    ...                   ...                   ...   \n",
       "4591                  10.0               101,920                   1.0   \n",
       "4592                   9.0               163,999                   1.0   \n",
       "4593                   NaN                   NaN                   8.0   \n",
       "4596                   1.0                   927                   NaN   \n",
       "4598                   NaN                   NaN                   7.0   \n",
       "\n",
       "     pandora_streams pandora_track_stations soundcloud_streams  shazam_counts  \\\n",
       "0         18,004,655                 22,931          4,818,457      2,669,262   \n",
       "2          5,022,621                  5,639          7,208,651      5,285,340   \n",
       "3        190,260,277                203,384                NaN     11,822,942   \n",
       "6         65,447,476                 57,372                NaN      9,990,302   \n",
       "12         1,354,692                  1,219          1,313,357        450,344   \n",
       "...              ...                    ...                ...            ...   \n",
       "4591      10,855,294                 18,606                NaN      1,724,972   \n",
       "4592             NaN                    NaN             33,508        312,177   \n",
       "4593             NaN                    NaN                NaN          3,169   \n",
       "4596             NaN                    NaN                NaN        193,590   \n",
       "4598       6,817,840                    NaN                NaN        448,292   \n",
       "\n",
       "     tidal_popularity explicit_track  \n",
       "0                 NaN              0  \n",
       "2                 NaN              0  \n",
       "3                 NaN              0  \n",
       "6                 NaN              0  \n",
       "12                NaN              0  \n",
       "...               ...            ...  \n",
       "4591              NaN              0  \n",
       "4592              NaN              0  \n",
       "4593              NaN              0  \n",
       "4596              NaN              0  \n",
       "4598              NaN              0  \n",
       "\n",
       "[2949 rows x 29 columns]"
      ]
     },
     "execution_count": 17,
     "metadata": {},
     "output_type": "execute_result"
    }
   ],
   "source": [
    "clean_songs = songs[songs['explicit_track'] == 0]\n",
    "clean_songs"
   ]
  },
  {
   "cell_type": "code",
   "execution_count": 18,
   "id": "3d7e141b-0320-4cb7-ae8d-2daa8158a07e",
   "metadata": {},
   "outputs": [
    {
     "data": {
      "text/plain": [
       "array([0], dtype=int64)"
      ]
     },
     "execution_count": 18,
     "metadata": {},
     "output_type": "execute_result"
    }
   ],
   "source": [
    "clean_songs.explicit_track.unique()"
   ]
  },
  {
   "cell_type": "code",
   "execution_count": 19,
   "id": "0791eef2-889b-4644-9f7e-e2cc0bdf2727",
   "metadata": {},
   "outputs": [
    {
     "data": {
      "text/plain": [
       "artist\n",
       "Taylor Swift           50\n",
       "Billie Eilish          25\n",
       "Bad Bunny              18\n",
       "KAROL G                18\n",
       "Morgan Wallen          17\n",
       "                       ..\n",
       "Lizzy McAlpine          1\n",
       "Sunidhi Chauhan         1\n",
       "Diego & Victor Hugo     1\n",
       "Stebin Ben              1\n",
       "Jaques Raupï¿           1\n",
       "Name: count, Length: 1534, dtype: int64"
      ]
     },
     "execution_count": 19,
     "metadata": {},
     "output_type": "execute_result"
    }
   ],
   "source": [
    "clean_mouthed_artists_song_counts = clean_songs['artist'].value_counts()\n",
    "clean_mouthed_artists_song_counts"
   ]
  },
  {
   "cell_type": "code",
   "execution_count": 20,
   "id": "4a3ac406-4a9b-4d58-b3af-5653854b747c",
   "metadata": {},
   "outputs": [
    {
     "name": "stdout",
     "output_type": "stream",
     "text": [
      "Top five 'clean-mouthed' artists:\n"
     ]
    },
    {
     "data": {
      "text/plain": [
       "artist\n",
       "Taylor Swift     50\n",
       "Billie Eilish    25\n",
       "Bad Bunny        18\n",
       "KAROL G          18\n",
       "Morgan Wallen    17\n",
       "Name: count, dtype: int64"
      ]
     },
     "execution_count": 20,
     "metadata": {},
     "output_type": "execute_result"
    }
   ],
   "source": [
    "print(\"Top five 'clean-mouthed' artists:\")\n",
    "clean_mouthed_artists_song_counts.head(5)"
   ]
  },
  {
   "cell_type": "markdown",
   "id": "25ee2949-c7ce-4c30-8836-1fa443d245e9",
   "metadata": {},
   "source": [
    "### Problem 4. Most streamed artists (1 point)\n",
    "And who are the top five most streamed (as measured by Spotify streams) artists?"
   ]
  },
  {
   "cell_type": "code",
   "execution_count": 21,
   "id": "b33301af-be40-46a5-859d-85f58b35057c",
   "metadata": {},
   "outputs": [
    {
     "data": {
      "text/plain": [
       "0         390,470,936\n",
       "1         323,703,884\n",
       "2         601,309,283\n",
       "3       2,031,280,633\n",
       "4         107,034,922\n",
       "            ...      \n",
       "4595      305,049,963\n",
       "4596       52,282,360\n",
       "4597      189,972,685\n",
       "4598      145,467,020\n",
       "4599      255,740,653\n",
       "Name: spotify_streams, Length: 4600, dtype: object"
      ]
     },
     "execution_count": 21,
     "metadata": {},
     "output_type": "execute_result"
    }
   ],
   "source": [
    "songs.spotify_streams"
   ]
  },
  {
   "cell_type": "code",
   "execution_count": 22,
   "id": "5aba6ae3-49d6-473b-93ed-339586412867",
   "metadata": {},
   "outputs": [],
   "source": [
    "songs['spotify_streams'] = songs['spotify_streams'].str.replace(',', '')"
   ]
  },
  {
   "cell_type": "code",
   "execution_count": 23,
   "id": "202bb2d9-a279-4a11-8657-36b389e98881",
   "metadata": {},
   "outputs": [
    {
     "data": {
      "text/plain": [
       "0        390470936\n",
       "1        323703884\n",
       "2        601309283\n",
       "3       2031280633\n",
       "4        107034922\n",
       "           ...    \n",
       "4595     305049963\n",
       "4596      52282360\n",
       "4597     189972685\n",
       "4598     145467020\n",
       "4599     255740653\n",
       "Name: spotify_streams, Length: 4600, dtype: object"
      ]
     },
     "execution_count": 23,
     "metadata": {},
     "output_type": "execute_result"
    }
   ],
   "source": [
    "songs['spotify_streams']"
   ]
  },
  {
   "cell_type": "code",
   "execution_count": 24,
   "id": "1b04978c-5acd-4e30-af7a-be17f4279c6a",
   "metadata": {},
   "outputs": [],
   "source": [
    "songs['spotify_streams'] = pd.to_numeric(songs['spotify_streams'])"
   ]
  },
  {
   "cell_type": "code",
   "execution_count": 25,
   "id": "ca9eb1d4-a69e-44e9-bd09-79c9d5edc509",
   "metadata": {},
   "outputs": [
    {
     "data": {
      "text/plain": [
       "0       3.904709e+08\n",
       "1       3.237039e+08\n",
       "2       6.013093e+08\n",
       "3       2.031281e+09\n",
       "4       1.070349e+08\n",
       "            ...     \n",
       "4595    3.050500e+08\n",
       "4596    5.228236e+07\n",
       "4597    1.899727e+08\n",
       "4598    1.454670e+08\n",
       "4599    2.557407e+08\n",
       "Name: spotify_streams, Length: 4600, dtype: float64"
      ]
     },
     "execution_count": 25,
     "metadata": {},
     "output_type": "execute_result"
    }
   ],
   "source": [
    "songs['spotify_streams']"
   ]
  },
  {
   "cell_type": "code",
   "execution_count": 26,
   "id": "befa8fdb-0456-4e11-9025-2fe4d90a00cb",
   "metadata": {},
   "outputs": [
    {
     "data": {
      "text/plain": [
       "array([False,  True])"
      ]
     },
     "execution_count": 26,
     "metadata": {},
     "output_type": "execute_result"
    }
   ],
   "source": [
    "songs['spotify_streams'].isna().unique()"
   ]
  },
  {
   "cell_type": "markdown",
   "id": "ed123d0b-b93b-408c-859e-5bad5746182d",
   "metadata": {},
   "source": [
    "As you can see, there are NaN values, which I don't need, so i am going to remove them."
   ]
  },
  {
   "cell_type": "code",
   "execution_count": 27,
   "id": "5ffcbb97-57c1-455c-8f3d-c75e4a92ab7b",
   "metadata": {},
   "outputs": [],
   "source": [
    "songs = songs.dropna(subset=['spotify_streams'])"
   ]
  },
  {
   "cell_type": "code",
   "execution_count": 28,
   "id": "7602c5d7-0dbb-43a8-901e-8962b0710ad9",
   "metadata": {},
   "outputs": [
    {
     "data": {
      "text/plain": [
       "array([False])"
      ]
     },
     "execution_count": 28,
     "metadata": {},
     "output_type": "execute_result"
    }
   ],
   "source": [
    "songs['spotify_streams'].isna().unique()"
   ]
  },
  {
   "cell_type": "markdown",
   "id": "2aa72120-0bbb-404c-b2b4-0279a2cae5f2",
   "metadata": {},
   "source": [
    "No more NaN values and now I can countinue with the main task - sum the spotify streams `BY ARTIST` and take the top five. "
   ]
  },
  {
   "cell_type": "code",
   "execution_count": 29,
   "id": "edf28afd-48f2-406d-988a-97e17fd780a8",
   "metadata": {},
   "outputs": [],
   "source": [
    "artist_streams_grouped = songs.groupby('artist')['spotify_streams'].sum()"
   ]
  },
  {
   "cell_type": "code",
   "execution_count": 30,
   "id": "4b6d1001-90fb-4b57-9d07-66581e1f6fa3",
   "metadata": {},
   "outputs": [],
   "source": [
    "top_streamed_artists = artist_streams_grouped.sort_values(ascending=False).head(5)"
   ]
  },
  {
   "cell_type": "code",
   "execution_count": 31,
   "id": "d22444d9-48de-4e78-9c38-0e2a105e673c",
   "metadata": {},
   "outputs": [
    {
     "name": "stdout",
     "output_type": "stream",
     "text": [
      "Top 5 most streamed artists based on Spotify streams:\n",
      "artist\n",
      "Bad Bunny       3.705483e+10\n",
      "The Weeknd      3.694854e+10\n",
      "Drake           3.496216e+10\n",
      "Taylor Swift    3.447077e+10\n",
      "Post Malone     2.613747e+10\n",
      "Name: spotify_streams, dtype: float64\n"
     ]
    }
   ],
   "source": [
    "print(\"Top 5 most streamed artists based on Spotify streams:\")\n",
    "print(top_streamed_artists)"
   ]
  },
  {
   "cell_type": "markdown",
   "id": "30fa25c3-abd4-4f04-859a-e00e781adaa8",
   "metadata": {},
   "source": [
    "### Problem 5. Songs by year and month (1 point)\n",
    "How many songs have been released each year? Present an appropriate plot. Can you explain the behavior of the plot for 2024?\n",
    "\n",
    "How about months? Is / Are there (a) popular month(s) to release music?"
   ]
  },
  {
   "cell_type": "code",
   "execution_count": 32,
   "id": "6bfca544-a5b2-40b1-9678-c4dbeff75423",
   "metadata": {},
   "outputs": [
    {
     "data": {
      "text/plain": [
       "0       4/26/2024\n",
       "1        5/4/2024\n",
       "2       3/19/2024\n",
       "3       1/12/2023\n",
       "4       5/31/2024\n",
       "          ...    \n",
       "4595     9/5/2017\n",
       "4596    7/27/2018\n",
       "4597    2/28/2020\n",
       "4598    11/8/2016\n",
       "4599    4/11/2017\n",
       "Name: release_date, Length: 4487, dtype: object"
      ]
     },
     "execution_count": 32,
     "metadata": {},
     "output_type": "execute_result"
    }
   ],
   "source": [
    "songs.release_date"
   ]
  },
  {
   "cell_type": "markdown",
   "id": "48778099-85f4-434d-a17c-9b07b4e6a9c8",
   "metadata": {},
   "source": [
    "As you can see, the `release year` column dtype is object, which is not okay. What I need to do first is to change the data type from object to datetime64."
   ]
  },
  {
   "cell_type": "code",
   "execution_count": 33,
   "id": "31f44c5d-8aef-4e57-b57b-b65a80db0d6e",
   "metadata": {},
   "outputs": [
    {
     "name": "stderr",
     "output_type": "stream",
     "text": [
      "C:\\Users\\Цецо\\AppData\\Local\\Temp\\ipykernel_14636\\4272825145.py:1: SettingWithCopyWarning: \n",
      "A value is trying to be set on a copy of a slice from a DataFrame.\n",
      "Try using .loc[row_indexer,col_indexer] = value instead\n",
      "\n",
      "See the caveats in the documentation: https://pandas.pydata.org/pandas-docs/stable/user_guide/indexing.html#returning-a-view-versus-a-copy\n",
      "  songs['release_date'] = pd.to_datetime(songs['release_date'], format='%m/%d/%Y')\n"
     ]
    }
   ],
   "source": [
    "songs['release_date'] = pd.to_datetime(songs['release_date'], format='%m/%d/%Y')"
   ]
  },
  {
   "cell_type": "code",
   "execution_count": 34,
   "id": "aa6d0aac-c89b-4bdb-a68a-cfe03111a08a",
   "metadata": {},
   "outputs": [
    {
     "data": {
      "text/plain": [
       "0      2024-04-26\n",
       "1      2024-05-04\n",
       "2      2024-03-19\n",
       "3      2023-01-12\n",
       "4      2024-05-31\n",
       "          ...    \n",
       "4595   2017-09-05\n",
       "4596   2018-07-27\n",
       "4597   2020-02-28\n",
       "4598   2016-11-08\n",
       "4599   2017-04-11\n",
       "Name: release_date, Length: 4487, dtype: datetime64[ns]"
      ]
     },
     "execution_count": 34,
     "metadata": {},
     "output_type": "execute_result"
    }
   ],
   "source": [
    "songs['release_date']"
   ]
  },
  {
   "cell_type": "markdown",
   "id": "289ef4ba-7073-4ec2-8c72-df5cbdb9b24c",
   "metadata": {},
   "source": [
    "Now I'm working with the correct data type and I can extract only the year (because that's what I need)."
   ]
  },
  {
   "cell_type": "code",
   "execution_count": 35,
   "id": "9c98176f-c214-4653-a497-7a52c6062ad4",
   "metadata": {},
   "outputs": [
    {
     "data": {
      "text/plain": [
       "0       2024\n",
       "1       2024\n",
       "2       2024\n",
       "3       2023\n",
       "4       2024\n",
       "        ... \n",
       "4595    2017\n",
       "4596    2018\n",
       "4597    2020\n",
       "4598    2016\n",
       "4599    2017\n",
       "Name: release_date, Length: 4487, dtype: int32"
      ]
     },
     "execution_count": 35,
     "metadata": {},
     "output_type": "execute_result"
    }
   ],
   "source": [
    "release_year = songs['release_date'].dt.year\n",
    "release_year"
   ]
  },
  {
   "cell_type": "code",
   "execution_count": 36,
   "id": "01f9f5ef-83d7-450b-ab3d-91f7913721fb",
   "metadata": {},
   "outputs": [],
   "source": [
    "songs_per_year = songs.groupby(release_year)"
   ]
  },
  {
   "cell_type": "code",
   "execution_count": 37,
   "id": "940d04da-6913-4d5e-af69-3ee3bd87fc45",
   "metadata": {},
   "outputs": [
    {
     "data": {
      "text/plain": [
       "release_date\n",
       "2023    1126\n",
       "2024     669\n",
       "2022     667\n",
       "2021     402\n",
       "2020     356\n",
       "2019     295\n",
       "2018     243\n",
       "2017     209\n",
       "2016     122\n",
       "2015      96\n",
       "2014      65\n",
       "2013      53\n",
       "2011      50\n",
       "2012      47\n",
       "2010      27\n",
       "2009      15\n",
       "2008      11\n",
       "2007       5\n",
       "2005       5\n",
       "2004       5\n",
       "2002       5\n",
       "2006       3\n",
       "2003       3\n",
       "2000       2\n",
       "1991       1\n",
       "2001       1\n",
       "1999       1\n",
       "1998       1\n",
       "1994       1\n",
       "1987       1\n",
       "dtype: int64"
      ]
     },
     "execution_count": 37,
     "metadata": {},
     "output_type": "execute_result"
    }
   ],
   "source": [
    "sorted_songs_per_year = songs_per_year.size().sort_values(ascending=False)\n",
    "sorted_songs_per_year"
   ]
  },
  {
   "cell_type": "code",
   "execution_count": 38,
   "id": "16b612d6-5af7-43b8-8d3d-5cf0f467ba8a",
   "metadata": {},
   "outputs": [
    {
     "data": {
      "image/png": "[encoded data removed]",
      "text/plain": [
       "<Figure size 1500x500 with 1 Axes>"
      ]
     },
     "metadata": {},
     "output_type": "display_data"
    }
   ],
   "source": [
    "plt.figure(figsize=(15, 5))\n",
    "\n",
    "years = sorted_songs_per_year.index\n",
    "number_of_songs = sorted_songs_per_year.values\n",
    "\n",
    "plt.bar(years, number_of_songs)\n",
    "plt.xlabel('Year')\n",
    "plt.ylabel('Number of Songs Released')\n",
    "plt.title('Number of Songs Released Each Year')\n",
    "\n",
    "plt.xticks(years) \n",
    "plt.xticks(rotation=45, ha='right')\n",
    "\n",
    "plt.show()"
   ]
  },
  {
   "cell_type": "markdown",
   "id": "39529c0b-404d-465b-87c8-6a2bd5acf217",
   "metadata": {},
   "source": [
    "The chart clearly shows that the most songs were released in 2023. In 2024 we can see a decline, compared to 2023, but when we look at the years before it, we can say that 2024 is expected to be a new peak for released songs, because we are still in the middle of the year "
   ]
  },
  {
   "cell_type": "markdown",
   "id": "fbeaf3ce-6df4-4405-bffa-47e31b63c536",
   "metadata": {},
   "source": [
    "How about the months?"
   ]
  },
  {
   "cell_type": "code",
   "execution_count": 39,
   "id": "bfb476c4-bca8-435a-bee8-d5120e1712bc",
   "metadata": {},
   "outputs": [
    {
     "data": {
      "text/plain": [
       "0        4\n",
       "1        5\n",
       "2        3\n",
       "3        1\n",
       "4        5\n",
       "        ..\n",
       "4595     9\n",
       "4596     7\n",
       "4597     2\n",
       "4598    11\n",
       "4599     4\n",
       "Name: release_date, Length: 4487, dtype: int32"
      ]
     },
     "execution_count": 39,
     "metadata": {},
     "output_type": "execute_result"
    }
   ],
   "source": [
    "release_month = songs['release_date'].dt.month\n",
    "release_month"
   ]
  },
  {
   "cell_type": "code",
   "execution_count": 40,
   "id": "d4400580-0c1e-485e-8e08-c6ac80a269f1",
   "metadata": {},
   "outputs": [
    {
     "data": {
      "text/plain": [
       "release_date\n",
       "5     502\n",
       "1     495\n",
       "3     417\n",
       "4     414\n",
       "10    377\n",
       "6     375\n",
       "2     358\n",
       "11    340\n",
       "9     323\n",
       "7     311\n",
       "8     310\n",
       "12    265\n",
       "dtype: int64"
      ]
     },
     "execution_count": 40,
     "metadata": {},
     "output_type": "execute_result"
    }
   ],
   "source": [
    "songs_per_month = songs.groupby(release_month)\n",
    "sorted_songs_per_month = songs_per_month.size().sort_values(ascending=False)\n",
    "sorted_songs_per_month"
   ]
  },
  {
   "cell_type": "code",
   "execution_count": 41,
   "id": "7ebc4cc8-b365-4a57-862f-7d30aec917c9",
   "metadata": {},
   "outputs": [
    {
     "data": {
      "image/png": "[encoded data removed]",
      "text/plain": [
       "<Figure size 700x400 with 1 Axes>"
      ]
     },
     "metadata": {},
     "output_type": "display_data"
    }
   ],
   "source": [
    "plt.figure(figsize=(7, 4))\n",
    "\n",
    "months = sorted_songs_per_month.index\n",
    "occurences = sorted_songs_per_month.values\n",
    "\n",
    "plt.bar(months, occurences, color='darkgreen')\n",
    "plt.xlabel('Year')\n",
    "plt.ylabel('Number of Songs Released')\n",
    "plt.title('Number of Songs Released Each Month')\n",
    "\n",
    "plt.xticks(months)\n",
    "\n",
    "plt.show()"
   ]
  },
  {
   "cell_type": "markdown",
   "id": "a9df30a9-cba2-4863-a4fc-c92657d2ba5e",
   "metadata": {},
   "source": [
    "The chart shows that most songs were released in the month of May. However, the difference with January is not big (only 7 songs). We can assume that singers are most active in May because the summer season is coming, and January is not far behind because that's when the new year starts and it's nice to start with a song аnd positive mood."
   ]
  },
  {
   "cell_type": "markdown",
   "id": "d83c5535-72dc-4670-81a3-8ca244233a46",
   "metadata": {},
   "source": [
    "### Problem 6. Playlists (2 points)\n",
    "Is there any connection (correlation) between users adding a song to playlists in one service, or another? Only Spotify, Apple, Deezer, and Amazon offer the ability to add a song to a playlist. Find a way to plot all these relationships at the same time, and analyze them. Experiment with different types of correlations."
   ]
  },
  {
   "cell_type": "markdown",
   "id": "31c3c043-c804-47e2-bc05-c6a44326c8b5",
   "metadata": {},
   "source": [
    "First of all the columns I need are `apple_music_playlist_count`, `spotify_playlist_count`, `amazon_playlist_count` and `deezer_playlist_count`."
   ]
  },
  {
   "cell_type": "markdown",
   "id": "d146fddf-0469-46d0-bc24-a80ef4670a4f",
   "metadata": {},
   "source": [
    "Checking the data types is a must!"
   ]
  },
  {
   "cell_type": "code",
   "execution_count": 42,
   "id": "4e02b30e-91ff-4f88-8446-48c68c729e33",
   "metadata": {},
   "outputs": [
    {
     "data": {
      "text/plain": [
       "dtype('float64')"
      ]
     },
     "execution_count": 42,
     "metadata": {},
     "output_type": "execute_result"
    }
   ],
   "source": [
    "songs['apple_music_playlist_count'].dtype # All good"
   ]
  },
  {
   "cell_type": "code",
   "execution_count": 43,
   "id": "78de0e7a-6bc4-489c-9e62-ea1cd3360da8",
   "metadata": {},
   "outputs": [
    {
     "data": {
      "text/plain": [
       "dtype('O')"
      ]
     },
     "execution_count": 43,
     "metadata": {},
     "output_type": "execute_result"
    }
   ],
   "source": [
    "songs['spotify_playlist_count'].dtype  # We have a problem here"
   ]
  },
  {
   "cell_type": "code",
   "execution_count": 44,
   "id": "7621022c-965c-4121-84e1-a8cbdc3a01f0",
   "metadata": {},
   "outputs": [
    {
     "data": {
      "text/plain": [
       "dtype('float64')"
      ]
     },
     "execution_count": 44,
     "metadata": {},
     "output_type": "execute_result"
    }
   ],
   "source": [
    "songs['amazon_playlist_count'].dtype  # All good"
   ]
  },
  {
   "cell_type": "code",
   "execution_count": 45,
   "id": "f9ab1755-994f-4465-8a2b-b425955df24a",
   "metadata": {},
   "outputs": [
    {
     "data": {
      "text/plain": [
       "dtype('float64')"
      ]
     },
     "execution_count": 45,
     "metadata": {},
     "output_type": "execute_result"
    }
   ],
   "source": [
    "songs['deezer_playlist_count'].dtype  # All good"
   ]
  },
  {
   "cell_type": "markdown",
   "id": "53948ab0-a40b-448e-b403-c9516f1dba96",
   "metadata": {},
   "source": [
    "So, in general I have a problem with only one of the columns and I need to convert it from an object to a float number."
   ]
  },
  {
   "cell_type": "code",
   "execution_count": 46,
   "id": "2eb9d14e-47c7-4907-81d6-f794381b6c9a",
   "metadata": {},
   "outputs": [
    {
     "name": "stderr",
     "output_type": "stream",
     "text": [
      "C:\\Users\\Цецо\\AppData\\Local\\Temp\\ipykernel_14636\\3400581913.py:1: SettingWithCopyWarning: \n",
      "A value is trying to be set on a copy of a slice from a DataFrame.\n",
      "Try using .loc[row_indexer,col_indexer] = value instead\n",
      "\n",
      "See the caveats in the documentation: https://pandas.pydata.org/pandas-docs/stable/user_guide/indexing.html#returning-a-view-versus-a-copy\n",
      "  songs['spotify_playlist_count'] = songs['spotify_playlist_count'].str.replace(',', '')\n"
     ]
    }
   ],
   "source": [
    "songs['spotify_playlist_count'] = songs['spotify_playlist_count'].str.replace(',', '')"
   ]
  },
  {
   "cell_type": "code",
   "execution_count": 47,
   "id": "cb48dcf8-db6a-4f13-a092-18f0b99b54a7",
   "metadata": {},
   "outputs": [
    {
     "name": "stderr",
     "output_type": "stream",
     "text": [
      "C:\\Users\\Цецо\\AppData\\Local\\Temp\\ipykernel_14636\\4154644812.py:1: SettingWithCopyWarning: \n",
      "A value is trying to be set on a copy of a slice from a DataFrame.\n",
      "Try using .loc[row_indexer,col_indexer] = value instead\n",
      "\n",
      "See the caveats in the documentation: https://pandas.pydata.org/pandas-docs/stable/user_guide/indexing.html#returning-a-view-versus-a-copy\n",
      "  songs['spotify_playlist_count'] = pd.to_numeric(songs['spotify_playlist_count'])\n"
     ]
    }
   ],
   "source": [
    "songs['spotify_playlist_count'] = pd.to_numeric(songs['spotify_playlist_count'])"
   ]
  },
  {
   "cell_type": "code",
   "execution_count": 48,
   "id": "b2ed2fbe-e70c-4967-b3bc-acd8d44381ae",
   "metadata": {},
   "outputs": [
    {
     "data": {
      "text/plain": [
       "0        30716.0\n",
       "1        28113.0\n",
       "2        54331.0\n",
       "3       269802.0\n",
       "4         7223.0\n",
       "          ...   \n",
       "4595     65770.0\n",
       "4596      4602.0\n",
       "4597     72066.0\n",
       "4598     14037.0\n",
       "4599     32138.0\n",
       "Name: spotify_playlist_count, Length: 4487, dtype: float64"
      ]
     },
     "execution_count": 48,
     "metadata": {},
     "output_type": "execute_result"
    }
   ],
   "source": [
    "songs['spotify_playlist_count']"
   ]
  },
  {
   "cell_type": "code",
   "execution_count": 49,
   "id": "dc69b4fc-565a-4aa9-81fb-6247fced1961",
   "metadata": {},
   "outputs": [
    {
     "data": {
      "text/plain": [
       "dtype('float64')"
      ]
     },
     "execution_count": 49,
     "metadata": {},
     "output_type": "execute_result"
    }
   ],
   "source": [
    "songs['spotify_playlist_count'].dtype"
   ]
  },
  {
   "cell_type": "markdown",
   "id": "4fad2bbc-7e1c-4e81-95c6-3ee292b64c16",
   "metadata": {},
   "source": [
    "Better now! Ready for work!"
   ]
  },
  {
   "cell_type": "code",
   "execution_count": 50,
   "id": "d3db5ed8-10e4-4f3d-9e20-ddc03371ba58",
   "metadata": {},
   "outputs": [],
   "source": [
    "pearson_corr = songs[['spotify_playlist_count', 'apple_music_playlist_count', \n",
    "                   'deezer_playlist_count', 'amazon_playlist_count']].corr(method='pearson')"
   ]
  },
  {
   "cell_type": "code",
   "execution_count": 51,
   "id": "94e7b41f-e8cd-45f8-8c5d-c358ee7e8b8d",
   "metadata": {},
   "outputs": [
    {
     "data": {
      "text/html": [
       "<div>\n",
       "<style scoped>\n",
       "    .dataframe tbody tr th:only-of-type {\n",
       "        vertical-align: middle;\n",
       "    }\n",
       "\n",
       "    .dataframe tbody tr th {\n",
       "        vertical-align: top;\n",
       "    }\n",
       "\n",
       "    .dataframe thead th {\n",
       "        text-align: right;\n",
       "    }\n",
       "</style>\n",
       "<table border=\"1\" class=\"dataframe\">\n",
       "  <thead>\n",
       "    <tr style=\"text-align: right;\">\n",
       "      <th></th>\n",
       "      <th>spotify_playlist_count</th>\n",
       "      <th>apple_music_playlist_count</th>\n",
       "      <th>deezer_playlist_count</th>\n",
       "      <th>amazon_playlist_count</th>\n",
       "    </tr>\n",
       "  </thead>\n",
       "  <tbody>\n",
       "    <tr>\n",
       "      <th>spotify_playlist_count</th>\n",
       "      <td>1.000000</td>\n",
       "      <td>0.685620</td>\n",
       "      <td>0.559852</td>\n",
       "      <td>0.381971</td>\n",
       "    </tr>\n",
       "    <tr>\n",
       "      <th>apple_music_playlist_count</th>\n",
       "      <td>0.685620</td>\n",
       "      <td>1.000000</td>\n",
       "      <td>0.775644</td>\n",
       "      <td>0.665573</td>\n",
       "    </tr>\n",
       "    <tr>\n",
       "      <th>deezer_playlist_count</th>\n",
       "      <td>0.559852</td>\n",
       "      <td>0.775644</td>\n",
       "      <td>1.000000</td>\n",
       "      <td>0.568779</td>\n",
       "    </tr>\n",
       "    <tr>\n",
       "      <th>amazon_playlist_count</th>\n",
       "      <td>0.381971</td>\n",
       "      <td>0.665573</td>\n",
       "      <td>0.568779</td>\n",
       "      <td>1.000000</td>\n",
       "    </tr>\n",
       "  </tbody>\n",
       "</table>\n",
       "</div>"
      ],
      "text/plain": [
       "                            spotify_playlist_count  \\\n",
       "spotify_playlist_count                    1.000000   \n",
       "apple_music_playlist_count                0.685620   \n",
       "deezer_playlist_count                     0.559852   \n",
       "amazon_playlist_count                     0.381971   \n",
       "\n",
       "                            apple_music_playlist_count  deezer_playlist_count  \\\n",
       "spotify_playlist_count                        0.685620               0.559852   \n",
       "apple_music_playlist_count                    1.000000               0.775644   \n",
       "deezer_playlist_count                         0.775644               1.000000   \n",
       "amazon_playlist_count                         0.665573               0.568779   \n",
       "\n",
       "                            amazon_playlist_count  \n",
       "spotify_playlist_count                   0.381971  \n",
       "apple_music_playlist_count               0.665573  \n",
       "deezer_playlist_count                    0.568779  \n",
       "amazon_playlist_count                    1.000000  "
      ]
     },
     "execution_count": 51,
     "metadata": {},
     "output_type": "execute_result"
    }
   ],
   "source": [
    "pearson_corr"
   ]
  },
  {
   "cell_type": "code",
   "execution_count": 52,
   "id": "4091fa14-4a0e-40e9-8a3e-fd4435186048",
   "metadata": {},
   "outputs": [
    {
     "data": {
      "image/png": "[encoded data removed]",
      "text/plain": [
       "<Figure size 800x500 with 2 Axes>"
      ]
     },
     "metadata": {},
     "output_type": "display_data"
    }
   ],
   "source": [
    "plt.figure(figsize=(8, 5))\n",
    "ax = sns.heatmap(pearson_corr, annot=True, fmt=\".2f\", cmap='coolwarm', vmin=-1, vmax=1, center=0, \n",
    "            linewidths=0.5, linecolor='black')\n",
    "ax.set_title(\"Pearson Correlation\")\n",
    "\n",
    "labels = ['spotify', 'apple', 'deezer', 'amazon']\n",
    "ax.set_xticklabels(labels)\n",
    "ax.set_yticklabels(labels)\n",
    "plt.show()"
   ]
  },
  {
   "cell_type": "code",
   "execution_count": 53,
   "id": "2aaead60-bc87-495d-8df9-003bb619d834",
   "metadata": {},
   "outputs": [],
   "source": [
    "kendall_corr = songs[['spotify_playlist_count', 'apple_music_playlist_count', \n",
    "                   'deezer_playlist_count', 'amazon_playlist_count']].corr(method='kendall')"
   ]
  },
  {
   "cell_type": "code",
   "execution_count": 54,
   "id": "2bde38e7-6ada-4687-ace6-f6aad9242241",
   "metadata": {},
   "outputs": [
    {
     "data": {
      "image/png": "[encoded data removed]",
      "text/plain": [
       "<Figure size 800x500 with 2 Axes>"
      ]
     },
     "metadata": {},
     "output_type": "display_data"
    }
   ],
   "source": [
    "plt.figure(figsize=(8, 5))\n",
    "\n",
    "ax = sns.heatmap(kendall_corr, annot=True, fmt=\".2f\", cmap='coolwarm', vmin=-1, vmax=1, center=0, \n",
    "            linewidths=0.5, linecolor='black')\n",
    "ax.set_title(\"Kendall Correlation\")\n",
    "\n",
    "labels = ['spotify', 'apple', 'deezer', 'amazon']\n",
    "ax.set_xticklabels(labels)\n",
    "ax.set_yticklabels(labels)\n",
    "plt.show()"
   ]
  },
  {
   "cell_type": "code",
   "execution_count": 55,
   "id": "ca95f88a-7376-4a84-a6c6-a2fac4fc651c",
   "metadata": {},
   "outputs": [],
   "source": [
    "spearman_corr = songs[['spotify_playlist_count', 'apple_music_playlist_count', \n",
    "                   'deezer_playlist_count', 'amazon_playlist_count']].corr(method='spearman')"
   ]
  },
  {
   "cell_type": "code",
   "execution_count": 56,
   "id": "ec27a677-97e0-4c62-9f31-b03a6880c631",
   "metadata": {},
   "outputs": [
    {
     "data": {
      "image/png": "[encoded data removed]",
      "text/plain": [
       "<Figure size 800x500 with 2 Axes>"
      ]
     },
     "metadata": {},
     "output_type": "display_data"
    }
   ],
   "source": [
    "plt.figure(figsize=(8, 5))\n",
    "ax = sns.heatmap(spearman_corr, annot=True, fmt=\".2f\", cmap='coolwarm', vmin=-1, vmax=1, center=0, \n",
    "            linewidths=0.5, linecolor='black')\n",
    "ax.set_title(\"Spearman Correlation\")\n",
    "\n",
    "labels = ['spotify', 'apple', 'deezer', 'amazon']\n",
    "ax.set_xticklabels(labels)\n",
    "ax.set_yticklabels(labels)\n",
    "plt.show()"
   ]
  },
  {
   "cell_type": "markdown",
   "id": "e78b8307-de74-4cb4-ba61-da4e7c9fc6c6",
   "metadata": {},
   "source": [
    "### Problem 7. YouTube views and likes (1 point)\n",
    "What is the relationship between YouTube views and likes? Present an appropriate plot. \n",
    "\n",
    "What is the mean YouTube views-to-likes ratio? What is its distribution? Find a way to plot it and describe it."
   ]
  },
  {
   "cell_type": "code",
   "execution_count": 57,
   "id": "4016ec3f-f815-44d3-847f-b8b7cec9ad7c",
   "metadata": {},
   "outputs": [
    {
     "data": {
      "text/plain": [
       "dtype('O')"
      ]
     },
     "execution_count": 57,
     "metadata": {},
     "output_type": "execute_result"
    }
   ],
   "source": [
    "songs.youtube_views.dtype"
   ]
  },
  {
   "cell_type": "code",
   "execution_count": 58,
   "id": "9d66d6a2-acd3-4b83-a6cd-499efa9a7a8b",
   "metadata": {},
   "outputs": [
    {
     "data": {
      "text/plain": [
       "dtype('O')"
      ]
     },
     "execution_count": 58,
     "metadata": {},
     "output_type": "execute_result"
    }
   ],
   "source": [
    "songs.youtube_likes.dtype"
   ]
  },
  {
   "cell_type": "code",
   "execution_count": 59,
   "id": "40410def-2491-4240-9989-fd47b07afbe6",
   "metadata": {},
   "outputs": [
    {
     "name": "stderr",
     "output_type": "stream",
     "text": [
      "C:\\Users\\Цецо\\AppData\\Local\\Temp\\ipykernel_14636\\128024410.py:4: SettingWithCopyWarning: \n",
      "A value is trying to be set on a copy of a slice from a DataFrame.\n",
      "Try using .loc[row_indexer,col_indexer] = value instead\n",
      "\n",
      "See the caveats in the documentation: https://pandas.pydata.org/pandas-docs/stable/user_guide/indexing.html#returning-a-view-versus-a-copy\n",
      "  songs[column] = songs[column].str.replace(',', '')\n",
      "C:\\Users\\Цецо\\AppData\\Local\\Temp\\ipykernel_14636\\128024410.py:5: SettingWithCopyWarning: \n",
      "A value is trying to be set on a copy of a slice from a DataFrame.\n",
      "Try using .loc[row_indexer,col_indexer] = value instead\n",
      "\n",
      "See the caveats in the documentation: https://pandas.pydata.org/pandas-docs/stable/user_guide/indexing.html#returning-a-view-versus-a-copy\n",
      "  songs[column] = pd.to_numeric(songs[column])\n"
     ]
    }
   ],
   "source": [
    "columns_to_convert = ['youtube_likes', 'youtube_views']\n",
    "\n",
    "for column in columns_to_convert:\n",
    "    songs[column] = songs[column].str.replace(',', '')\n",
    "    songs[column] = pd.to_numeric(songs[column])"
   ]
  },
  {
   "cell_type": "code",
   "execution_count": 60,
   "id": "5182372e-7afe-4b7b-8ac2-4fde3021bb63",
   "metadata": {},
   "outputs": [
    {
     "data": {
      "text/plain": [
       "dtype('float64')"
      ]
     },
     "execution_count": 60,
     "metadata": {},
     "output_type": "execute_result"
    }
   ],
   "source": [
    "songs.youtube_likes.dtype"
   ]
  },
  {
   "cell_type": "code",
   "execution_count": 61,
   "id": "d8611430-2fae-4b99-b67b-0955d57acc3e",
   "metadata": {},
   "outputs": [
    {
     "data": {
      "text/plain": [
       "dtype('float64')"
      ]
     },
     "execution_count": 61,
     "metadata": {},
     "output_type": "execute_result"
    }
   ],
   "source": [
    "songs.youtube_views.dtype"
   ]
  },
  {
   "cell_type": "code",
   "execution_count": 69,
   "id": "5bcc94c1-bf7e-47ac-8309-9af0eeac8bc9",
   "metadata": {},
   "outputs": [
    {
     "data": {
      "image/png": "[encoded data removed]",
      "text/plain": [
       "<Figure size 1000x600 with 1 Axes>"
      ]
     },
     "metadata": {},
     "output_type": "display_data"
    }
   ],
   "source": [
    "plt.figure(figsize=(10, 6))\n",
    "sns.scatterplot(x='youtube_views', y='youtube_likes', data=songs)\n",
    "plt.title('Relationship between YouTube Views and Likes')\n",
    "plt.xlabel('YouTube Views')\n",
    "plt.ylabel('YouTube Likes')\n",
    "plt.show()"
   ]
  },
  {
   "cell_type": "markdown",
   "id": "afe30c69-6749-4e36-84a4-8d191ae4e3aa",
   "metadata": {},
   "source": [
    "The scatter plot shows that as the number of views increases, the number of likes tends to increase as well, indicating a positive correlation between YouTube views and likes.\n",
    "There are a few outliers with exceptionally high numbers of views and likes."
   ]
  },
  {
   "cell_type": "markdown",
   "id": "2abca6d6-4cb0-4bdb-ab57-57f7ba5b1c4e",
   "metadata": {},
   "source": [
    "<b>What is the mean YouTube views-to-likes ratio?</b>"
   ]
  },
  {
   "cell_type": "markdown",
   "id": "d388ecf0-778d-4095-a318-b1fcf4d3ec36",
   "metadata": {},
   "source": [
    "I first need to calculate this ratio for each song."
   ]
  },
  {
   "cell_type": "code",
   "execution_count": 73,
   "id": "d5dae47a-04e9-4b61-8d0b-8fa1aa743b43",
   "metadata": {},
   "outputs": [
    {
     "name": "stderr",
     "output_type": "stream",
     "text": [
      "C:\\Users\\Цецо\\AppData\\Local\\Temp\\ipykernel_14636\\73229444.py:1: SettingWithCopyWarning: \n",
      "A value is trying to be set on a copy of a slice from a DataFrame.\n",
      "Try using .loc[row_indexer,col_indexer] = value instead\n",
      "\n",
      "See the caveats in the documentation: https://pandas.pydata.org/pandas-docs/stable/user_guide/indexing.html#returning-a-view-versus-a-copy\n",
      "  songs['views_to_likes_ratio'] = songs['youtube_views'] / songs['youtube_likes']\n"
     ]
    }
   ],
   "source": [
    "songs['views_to_likes_ratio'] = songs['youtube_views'] / songs['youtube_likes']"
   ]
  },
  {
   "cell_type": "code",
   "execution_count": 74,
   "id": "a65c985d-ccfd-4e89-8cfa-a862759a5bf5",
   "metadata": {},
   "outputs": [
    {
     "data": {
      "text/plain": [
       "0        49.193553\n",
       "1        33.368440\n",
       "2        55.008510\n",
       "3       103.115892\n",
       "4        21.081742\n",
       "           ...    \n",
       "4595    106.789364\n",
       "4596    176.507395\n",
       "4597    185.895100\n",
       "4598    289.130238\n",
       "4599    226.375612\n",
       "Name: views_to_likes_ratio, Length: 4487, dtype: float64"
      ]
     },
     "execution_count": 74,
     "metadata": {},
     "output_type": "execute_result"
    }
   ],
   "source": [
    "songs['views_to_likes_ratio']"
   ]
  },
  {
   "cell_type": "markdown",
   "id": "80c45111-e71f-41b6-b8ec-190517c0e5fd",
   "metadata": {},
   "source": [
    "Now, I can compute the mean of the ratios."
   ]
  },
  {
   "cell_type": "code",
   "execution_count": 76,
   "id": "12d53dd9-23d2-4336-943e-5428d69ce092",
   "metadata": {},
   "outputs": [
    {
     "data": {
      "text/plain": [
       "165.10399707370502"
      ]
     },
     "execution_count": 76,
     "metadata": {},
     "output_type": "execute_result"
    }
   ],
   "source": [
    "mean_ratio = songs['views_to_likes_ratio'].mean()\n",
    "mean_ratio"
   ]
  },
  {
   "cell_type": "code",
   "execution_count": 99,
   "id": "db152336-eee1-4400-94ce-1cb799f0fea5",
   "metadata": {},
   "outputs": [
    {
     "name": "stderr",
     "output_type": "stream",
     "text": [
      "D:\\Anaconda\\Lib\\site-packages\\seaborn\\_oldcore.py:1119: FutureWarning: use_inf_as_na option is deprecated and will be removed in a future version. Convert inf values to NaN before operating instead.\n",
      "  with pd.option_context('mode.use_inf_as_na', True):\n"
     ]
    },
    {
     "data": {
      "image/png": "[encoded data removed]",
      "text/plain": [
       "<Figure size 1000x600 with 1 Axes>"
      ]
     },
     "metadata": {},
     "output_type": "display_data"
    }
   ],
   "source": [
    "plt.figure(figsize=(10, 6))\n",
    "sns.histplot(songs['views_to_likes_ratio'], bins=30, kde=True)\n",
    "plt.title('Distribution of YouTube Views-to-Likes Ratio')\n",
    "plt.xlabel('Views-to-Likes Ratio')\n",
    "plt.ylabel('Frequency')\n",
    "plt.axvline(mean_ratio, color='red', linestyle='--', label=f'Mean Ratio: {mean_ratio:.2f}')\n",
    "plt.legend()\n",
    "plt.show()"
   ]
  },
  {
   "cell_type": "markdown",
   "id": "7fc028b8-362f-4d5e-9958-72ed876f83fc",
   "metadata": {},
   "source": [
    "### Problem 8. TikTok stuff (2 points)\n",
    "The most popular songs on TikTok released every year show... interesting behavior. Which years peaked the most TikTok views? Show an appropriate chart. Can you explain this behavior? For a bit of context, TikTok was created in 2016.\n",
    "\n",
    "Now, how much popular is the most popular song for each release year, than the mean popularity? Analyze the results.\n",
    "\n",
    "In both parts, it would be helpful to see the actual songs."
   ]
  },
  {
   "cell_type": "code",
   "execution_count": null,
   "id": "3ecec32f-7ddb-449d-9b69-8157705cc319",
   "metadata": {},
   "outputs": [],
   "source": []
  },
  {
   "cell_type": "markdown",
   "id": "d6d06ba6-54fe-4514-b9f3-50b5ac541b50",
   "metadata": {},
   "source": [
    "### * Problem 9. Explore (and clean) at will\n",
    "There is a lot to look for here. For example, you can easily link a song to its genres, and lyrics. You may also try to link artists and albums to more info about them. Or you can compare and contrast a song's performance across different platforms, in a similar manner to what you already did above; maybe even assign a better song ranking system (across platforms with different popularity metrics, and different requirements) than the one provided in the dataset."
   ]
  },
  {
   "cell_type": "code",
   "execution_count": null,
   "id": "844a9811-c034-4bcf-96c4-8b69f743a330",
   "metadata": {},
   "outputs": [],
   "source": []
  }
 ],
 "metadata": {
  "kernelspec": {
   "display_name": "Python 3 (ipykernel)",
   "language": "python",
   "name": "python3"
  },
  "language_info": {
   "codemirror_mode": {
    "name": "ipython",
    "version": 3
   },
   "file_extension": ".py",
   "mimetype": "text/x-python",
   "name": "python",
   "nbconvert_exporter": "python",
   "pygments_lexer": "ipython3",
   "version": "3.11.7"
  }
 },
 "nbformat": 4,
 "nbformat_minor": 5
}
